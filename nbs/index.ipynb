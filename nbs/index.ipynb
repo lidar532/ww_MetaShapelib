{
 "cells": [
  {
   "cell_type": "code",
   "execution_count": null,
   "metadata": {},
   "outputs": [],
   "source": [
    "#| hide\n",
    "from ww_MetaShapelib.core import *"
   ]
  },
  {
   "cell_type": "markdown",
   "metadata": {},
   "source": [
    "# Readme\n",
    "\n",
    "> A Python library for reading and analysing MetaShape reference and camera calibration files."
   ]
  },
  {
   "cell_type": "markdown",
   "metadata": {},
   "source": [
    "The documentaion for this library is located here: [ww_MetaShapelib](https://lidar532.github.io/ww_MetaShapelib/)"
   ]
  },
  {
   "cell_type": "markdown",
   "metadata": {},
   "source": [
    "## Install"
   ]
  },
  {
   "cell_type": "markdown",
   "metadata": {},
   "source": [
    "```sh\n",
    "pip install -e .\n",
    "```"
   ]
  },
  {
   "cell_type": "markdown",
   "metadata": {},
   "source": [
    "## How to use"
   ]
  },
  {
   "cell_type": "markdown",
   "metadata": {},
   "source": [
    "Example usage:"
   ]
  },
  {
   "cell_type": "code",
   "execution_count": null,
   "metadata": {},
   "outputs": [
    {
     "data": {
      "text/plain": [
       "['/home/wright/github-projects/ww_MetaShapelib/nbs',\n",
       " '/home/wright/miniconda3/lib/python310.zip',\n",
       " '/home/wright/miniconda3/lib/python3.10',\n",
       " '/home/wright/miniconda3/lib/python3.10/lib-dynload',\n",
       " '',\n",
       " '/home/wright/miniconda3/lib/python3.10/site-packages',\n",
       " '/home/wright/github-projects/ww_MetaShapelib']"
      ]
     },
     "execution_count": null,
     "metadata": {},
     "output_type": "execute_result"
    }
   ],
   "source": [
    "#| hide\n",
    "import sys\n",
    "sys.path"
   ]
  },
  {
   "cell_type": "code",
   "execution_count": null,
   "metadata": {},
   "outputs": [],
   "source": [
    "import ww_MetaShapelib.ww_metashapelib as ms"
   ]
  },
  {
   "cell_type": "code",
   "execution_count": null,
   "metadata": {},
   "outputs": [
    {
     "data": {
      "text/plain": [
       "'2024-0407-0052'"
      ]
     },
     "execution_count": null,
     "metadata": {},
     "output_type": "execute_result"
    }
   ],
   "source": [
    "ms.asof"
   ]
  },
  {
   "cell_type": "code",
   "execution_count": null,
   "metadata": {},
   "outputs": [
    {
     "data": {
      "text/plain": [
       "'../test_data/'"
      ]
     },
     "metadata": {},
     "output_type": "display_data"
    },
    {
     "data": {
      "text/html": [
       "<div>\n",
       "<style scoped>\n",
       "    .dataframe tbody tr th:only-of-type {\n",
       "        vertical-align: middle;\n",
       "    }\n",
       "\n",
       "    .dataframe tbody tr th {\n",
       "        vertical-align: top;\n",
       "    }\n",
       "\n",
       "    .dataframe thead th {\n",
       "        text-align: right;\n",
       "    }\n",
       "</style>\n",
       "<table border=\"1\" class=\"dataframe\">\n",
       "  <thead>\n",
       "    <tr style=\"text-align: right;\">\n",
       "      <th></th>\n",
       "      <th>Label</th>\n",
       "      <th>datetime</th>\n",
       "      <th>Error_(m)</th>\n",
       "      <th>X_error</th>\n",
       "      <th>Y_error</th>\n",
       "      <th>Z_error</th>\n",
       "      <th>Error_(deg)</th>\n",
       "      <th>Yaw_error</th>\n",
       "      <th>Pitch_error</th>\n",
       "      <th>Roll_error</th>\n",
       "    </tr>\n",
       "  </thead>\n",
       "  <tbody>\n",
       "    <tr>\n",
       "      <th>0</th>\n",
       "      <td>ns1500-ref.txt</td>\n",
       "      <td>2019-08-19 17:21:36</td>\n",
       "      <td>0.042235</td>\n",
       "      <td>0.027437</td>\n",
       "      <td>0.026548</td>\n",
       "      <td>0.018061</td>\n",
       "      <td>0.700134</td>\n",
       "      <td>0.459896</td>\n",
       "      <td>0.520026</td>\n",
       "      <td>0.090862</td>\n",
       "    </tr>\n",
       "    <tr>\n",
       "      <th>1</th>\n",
       "      <td>ew1500-ref.txt</td>\n",
       "      <td>2019-08-19 17:32:33</td>\n",
       "      <td>0.053197</td>\n",
       "      <td>0.040021</td>\n",
       "      <td>0.030392</td>\n",
       "      <td>0.017453</td>\n",
       "      <td>0.666923</td>\n",
       "      <td>0.444327</td>\n",
       "      <td>0.478524</td>\n",
       "      <td>0.135554</td>\n",
       "    </tr>\n",
       "    <tr>\n",
       "      <th>2</th>\n",
       "      <td>ew2000-ref.txt</td>\n",
       "      <td>2019-08-19 17:08:47</td>\n",
       "      <td>0.054781</td>\n",
       "      <td>0.033468</td>\n",
       "      <td>0.039589</td>\n",
       "      <td>0.017709</td>\n",
       "      <td>0.647979</td>\n",
       "      <td>0.459748</td>\n",
       "      <td>0.436593</td>\n",
       "      <td>0.133774</td>\n",
       "    </tr>\n",
       "    <tr>\n",
       "      <th>3</th>\n",
       "      <td>ew1200-ref.txt</td>\n",
       "      <td>2019-08-19 16:56:31</td>\n",
       "      <td>0.230996</td>\n",
       "      <td>0.041630</td>\n",
       "      <td>0.128267</td>\n",
       "      <td>0.187547</td>\n",
       "      <td>0.639768</td>\n",
       "      <td>0.439518</td>\n",
       "      <td>0.450201</td>\n",
       "      <td>0.115958</td>\n",
       "    </tr>\n",
       "  </tbody>\n",
       "</table>\n",
       "</div>"
      ],
      "text/plain": [
       "            Label            datetime  Error_(m)   X_error   Y_error  \\\n",
       "0  ns1500-ref.txt 2019-08-19 17:21:36   0.042235  0.027437  0.026548   \n",
       "1  ew1500-ref.txt 2019-08-19 17:32:33   0.053197  0.040021  0.030392   \n",
       "2  ew2000-ref.txt 2019-08-19 17:08:47   0.054781  0.033468  0.039589   \n",
       "3  ew1200-ref.txt 2019-08-19 16:56:31   0.230996  0.041630  0.128267   \n",
       "\n",
       "    Z_error  Error_(deg)  Yaw_error  Pitch_error  Roll_error  \n",
       "0  0.018061     0.700134   0.459896     0.520026    0.090862  \n",
       "1  0.017453     0.666923   0.444327     0.478524    0.135554  \n",
       "2  0.017709     0.647979   0.459748     0.436593    0.133774  \n",
       "3  0.187547     0.639768   0.439518     0.450201    0.115958  "
      ]
     },
     "metadata": {},
     "output_type": "display_data"
    }
   ],
   "source": [
    "test_data_dir = '../test_data/'\n",
    "rv = ms.read_metashape_reference_dir_total_errors( test_data_dir )\n",
    "display(rv.path, rv.df)"
   ]
  },
  {
   "cell_type": "code",
   "execution_count": null,
   "metadata": {},
   "outputs": [],
   "source": []
  }
 ],
 "metadata": {
  "kernelspec": {
   "display_name": "python3",
   "language": "python",
   "name": "python3"
  }
 },
 "nbformat": 4,
 "nbformat_minor": 4
}
