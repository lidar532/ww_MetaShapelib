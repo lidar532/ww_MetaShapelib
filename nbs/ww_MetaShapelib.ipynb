{
 "cells": [
  {
   "cell_type": "markdown",
   "metadata": {},
   "source": [
    "## Imports"
   ]
  },
  {
   "cell_type": "code",
   "execution_count": null,
   "metadata": {},
   "outputs": [],
   "source": [
    "import datetime as              dt\n",
    "import pandas   as              pd\n",
    "import csv\n",
    "import numpy    as              np\n",
    "from   glob    import           glob\n",
    "import re\n",
    "import os\n",
    "from   io    import             StringIO\n",
    "from pathlib import             Path, PurePosixPath, PureWindowsPath\n",
    "import xml.etree.ElementTree as ET"
   ]
  },
  {
   "cell_type": "markdown",
   "metadata": {},
   "source": [
    "## Module Data"
   ]
  },
  {
   "cell_type": "markdown",
   "metadata": {},
   "source": [
    "#### Static Data."
   ]
  },
  {
   "cell_type": "code",
   "execution_count": null,
   "metadata": {},
   "outputs": [],
   "source": [
    "# The asof data for this version of the library.\n",
    "asof = '2024-0406-1136'"
   ]
  },
  {
   "cell_type": "markdown",
   "metadata": {},
   "source": [
    "### Test and Configuration Data\n",
    "These cells setup any files used for testing the functions and classes in this module.  Configurations for testing on Linux/Colab, Linux/wsl2-Jupyter, Linux/Jupyter, and Windows/Jupyter"
   ]
  },
  {
   "cell_type": "markdown",
   "metadata": {},
   "source": [
    "### All Systems"
   ]
  },
  {
   "cell_type": "code",
   "execution_count": null,
   "metadata": {},
   "outputs": [],
   "source": [
    "# Set these for all systems.\n",
    "if __name__ == \"__main__\":\n",
    "  metashape_cal_filename = 'we-1500-A1-agisoft-camcal.xml'\n",
    "  metashape_ref_filename = 'we-1500-A1-agisoft-camcal-ref.txt'\n",
    "  inpho_filename         = 'we-1500-A1-inpho-camcal.txt'\n",
    "  opencv_filename        = 'we-1500-A1-opencv-camcal.xml'\n",
    "  ref_test_mask          = '*-ref.txt'"
   ]
  },
  {
   "cell_type": "markdown",
   "metadata": {},
   "source": [
    "### Colab"
   ]
  },
  {
   "cell_type": "code",
   "execution_count": null,
   "metadata": {},
   "outputs": [],
   "source": [
    "# Colab setup.\n",
    "# See: https://openincolab.com/ to generate a Colab badge.\n",
    "if __name__ == \"__main__\":\n",
    "  if 'google.colab' not in str(get_ipython()):\n",
    "    print('Not running on CoLab')\n",
    "    IN_COLAB = False\n",
    "  else:\n",
    "    print('Running on Linux/CoLab')\n",
    "    import google.colab\n",
    "    IN_COLAB = True\n",
    "    if os.path.exists('/content/drive') == False:\n",
    "      from google.colab import drive\n",
    "      drive.mount('/content/drive')\n",
    "    else:\n",
    "      print('Google Drive already mounted.')\n",
    "      test_data_dir          = '/content/drive/MyDrive/Colab Notebooks/WWpylib/test_data/'\n",
    "      metashape_cal_filename = test_data_dir + metashape_cal_filename\n",
    "      metashape_ref_filename = test_data_dir + metashape_ref_filename\n",
    "      inpho_filename         = test_data_dir + inpho_filename\n",
    "      opencv_filename        = test_data_dir + opencv_filename\n",
    "      print('\\n**** Testing Files ****')\n",
    "      print(f'{metashape_cal_filename    = }')\n",
    "      print(f'{metashape_ref_filename    = }')\n",
    "      print(f'{inpho_filename            = }')\n",
    "      print(f'{opencv_filename           = }')\n",
    "      print(\"\\n**** Reference data test files ****\")\n",
    "      ref_test_files = glob(f'{test_data_dir}/{ref_test_mask}')\n",
    "      for f in ref_test_files:\n",
    "        print(f)"
   ]
  },
  {
   "cell_type": "markdown",
   "metadata": {},
   "source": [
    "### Windows/Juypter"
   ]
  },
  {
   "cell_type": "code",
   "execution_count": null,
   "metadata": {},
   "outputs": [],
   "source": [
    "# Windows setup.\n",
    "if __name__ == \"__main__\" and os.name == 'nt':\n",
    "  print('Running on Windows/Jupyter.')"
   ]
  },
  {
   "cell_type": "markdown",
   "metadata": {},
   "source": [
    "### Linux/Jupyter"
   ]
  },
  {
   "cell_type": "code",
   "execution_count": null,
   "metadata": {},
   "outputs": [],
   "source": [
    "# Linux/Jupyter setup.\n",
    "if __name__ == \"__main__\" and os.name == 'posix' and not IN_COLAB:\n",
    "  print('Running on Linux/Jupyter.')\n",
    "  pass"
   ]
  },
  {
   "cell_type": "markdown",
   "metadata": {},
   "source": [
    "## Functions"
   ]
  },
  {
   "cell_type": "markdown",
   "metadata": {},
   "source": [
    "### class MetaShapeReference"
   ]
  },
  {
   "cell_type": "code",
   "execution_count": null,
   "metadata": {},
   "outputs": [],
   "source": [
    "class MetaShapeReference:\n",
    "  def __init__(self, filename):\n",
    "    self.filename      = filename\n",
    "    self.df            = None\n",
    "    self.meta          = None\n",
    "    self.total_error   = None\n",
    "    self.data          = None"
   ]
  },
  {
   "cell_type": "markdown",
   "metadata": {},
   "source": [
    "### def read_metashape_reference_file_into_dataframe()"
   ]
  },
  {
   "cell_type": "code",
   "execution_count": null,
   "metadata": {},
   "outputs": [],
   "source": [
    "def read_metashape_reference_file_into_dataframe(\n",
    "    filename           # Metashape reference filename to read.\n",
    "    ) -> pd.DataFrame: # MetashapeReference class data structure.\n",
    "  \"\"\"\n",
    "  Read a Metashape reference file into a MetashapeReference class\n",
    "  and save the data in a Pandas dataframe.  Also save the filename, the\n",
    "  metadata from the comment above the header line, the total_error as\n",
    "  a Pandas Dataframe, and the contents of the specified file in string,\n",
    "  in the returned data structure.\n",
    "  \"\"\"\n",
    "\n",
    "  # Create the Matashape data structure, and save the filename in it.\n",
    "  ref = MetaShapeReference( filename )\n",
    "\n",
    "  # Extract the root filename\n",
    "  ref.root_filename = PurePosixPath(filename).name\n",
    "\n",
    "  # Read the file into a list of lines. so we can get rid of the \"#\" at the start\n",
    "  # of the header line.\n",
    "  with open(filename, 'r') as f:\n",
    "    data = f.readlines()\n",
    "\n",
    "  # Save the whole thing for possible debugging.\n",
    "  ref.data = data\n",
    "\n",
    "  # Save the meta data in the data structure in case the user wants it.\n",
    "  ref.meta = data[0]\n",
    "\n",
    "  # Get rid of the \"#\" at the start of the header line.\n",
    "  if data[1][0:6] == '#Label':\n",
    "    data[1] = data[1][1:]\n",
    "\n",
    "  # Convert the list to a string\n",
    "  ds = ''.join( data )\n",
    "\n",
    "  # Read the string into a Pandas dataframe and store in the data structure.\n",
    "  ref.df = pd.read_csv( StringIO(ds), comment='#')\n",
    "\n",
    "  # Read the last line of the file into a Pandas dataframe and store in the data structure.\n",
    "  # This line has the total error for several columns.\n",
    "  ref.total_error = pd.read_csv( StringIO( data[-1] ), names=ref.df.columns ).dropna(axis=1)\n",
    "  ref.total_error.replace( to_replace=\"#Total error\", value=ref.root_filename, inplace=True )\n",
    "\n",
    "  # Return the data structure.\n",
    "  return ref"
   ]
  },
  {
   "cell_type": "code",
   "execution_count": null,
   "metadata": {},
   "outputs": [],
   "source": [
    "# Gather test reference files.\n",
    "if __name__ == '__main__':\n",
    "  files = glob(f'{test_data_dir}/*-ref.txt')\n",
    "  display(files)"
   ]
  },
  {
   "cell_type": "code",
   "execution_count": null,
   "metadata": {},
   "outputs": [],
   "source": [
    "# Test with a single ref file.\n",
    "if __name__ == \"__main__\":\n",
    "  ref = read_metashape_reference_file_into_dataframe( files[0] )\n",
    "  display(ref.df.head(3), ref.df.tail(3), ref.total_error)"
   ]
  },
  {
   "cell_type": "markdown",
   "metadata": {},
   "source": [
    "### def read_metashape_reference_file_total_errors()"
   ]
  },
  {
   "cell_type": "code",
   "execution_count": null,
   "metadata": {},
   "outputs": [],
   "source": [
    "def read_metashape_reference_file_total_errors( filename ):\n",
    "  df = read_metashape_reference_file_into_dataframe( filename )\n",
    "  s = df.df['Label'][0].split('.')[0]\n",
    "  dtime = dt.datetime.strptime(s, '%Y%m%d-%H%M%S')\n",
    "  df.total_error['datetime'] = dtime\n",
    "  return df.total_error"
   ]
  },
  {
   "cell_type": "code",
   "execution_count": null,
   "metadata": {},
   "outputs": [],
   "source": [
    "# Test read_metashape_reference_file_total_errors()\n",
    "if __name__ == '__main__':\n",
    "  df = read_metashape_reference_file_total_errors( ref_test_files[0] )\n",
    "  display(df)"
   ]
  },
  {
   "cell_type": "code",
   "execution_count": null,
   "metadata": {},
   "outputs": [],
   "source": [
    "# Test read_metashape_reference_file_total_errors() with multiple files\n",
    "if __name__ == '__main__':\n",
    "  df = pd.DataFrame() # read_metashape_reference_file_total_errors( ref_test_files[0] )\n",
    "  for f in ref_test_files:\n",
    "    dfn = read_metashape_reference_file_total_errors( f )\n",
    "    df = pd.concat( [df, dfn] )\n",
    "  display(df)"
   ]
  },
  {
   "cell_type": "code",
   "execution_count": null,
   "metadata": {},
   "outputs": [],
   "source": [
    "class MetaShape_ref_total_errors():\n",
    "  def __init__(self):\n",
    "    self.path   = None\n",
    "    self.df     = None"
   ]
  },
  {
   "cell_type": "markdown",
   "metadata": {},
   "source": [
    "### def read_metashape_reference_dir_total_errors()"
   ]
  },
  {
   "cell_type": "code",
   "execution_count": null,
   "metadata": {},
   "outputs": [],
   "source": [
    "def read_metashape_reference_dir_total_errors(\n",
    "    dir_path,         # Path to MetaShape reference data files.\n",
    "    mask='*-ref.txt'  # Mask to select the reference files.\n",
    "    ) -> object:      # Class with path and dataframe attributes\n",
    "  df = pd.DataFrame()\n",
    "  rv = MetaShape_ref_total_errors()\n",
    "  rv.path = dir_path\n",
    "  for f in glob(f'{dir_path}/{mask}'):\n",
    "    dfn = read_metashape_reference_file_total_errors( f )\n",
    "    df = pd.concat( [df, dfn] )\n",
    "  v = df.pop('datetime')            # Move 'datetime' to be the second column\n",
    "  df.insert(1, 'datetime', v)\n",
    "  df.reset_index(drop=True, inplace=True)\n",
    "  rv.df = df\n",
    "  return rv"
   ]
  },
  {
   "cell_type": "markdown",
   "metadata": {},
   "source": [
    "#### Test def read_metashape_reference_dir_total_errors()"
   ]
  },
  {
   "cell_type": "code",
   "execution_count": null,
   "metadata": {},
   "outputs": [],
   "source": [
    "# Test read_metashape_reference_file_total_errors() with multiple files\n",
    "if __name__ == '__main__':\n",
    "  rv = read_metashape_reference_dir_total_errors( test_data_dir )\n",
    "  display(rv.path, rv.df)"
   ]
  },
  {
   "cell_type": "markdown",
   "metadata": {},
   "source": [
    "### class MetaShape_Cal_Data()"
   ]
  },
  {
   "cell_type": "code",
   "execution_count": null,
   "metadata": {},
   "outputs": [],
   "source": [
    "class MetaShape_Cal_Data():\n",
    "  def __init__(self):\n",
    "    self.filename   = None\n",
    "    self.datetime   = None\n",
    "    self.projection = None\n",
    "    self.units      = None\n",
    "    self.pixel_size = None\n",
    "    self.f          = None\n",
    "    self.cx         = None\n",
    "    self.cy         = None\n",
    "    self.width      = None\n",
    "    self.height     = None\n",
    "    self.error      = None"
   ]
  },
  {
   "cell_type": "markdown",
   "metadata": {},
   "source": [
    "### def read_metashape_camera_cal_file()"
   ]
  },
  {
   "cell_type": "code",
   "execution_count": null,
   "metadata": {},
   "outputs": [],
   "source": [
    "def read_metashape_camera_cal_file(\n",
    "    filename,              # The MetaShape xml calibration file to read.\n",
    "    pixel_size  = 5.5e-6,  # Pixel size in meters.\n",
    "    units = 'pixels',      # Can be \"pixels\", \"m\", or \"mm\"\n",
    "    rv = 'dict',           # R value. Can be \"dict\" or \"df\" or \"class\"\n",
    "    debug=False            #\n",
    "    ) -> dict:             #\n",
    "  \"\"\"\n",
    "  Read a Metashape xml camera calibration file into a dictionary. Values\n",
    "  can be converted from pixels to meters, or millimeters. Be sure to\n",
    "  specify the pixel size in meters.\n",
    "  \"\"\"\n",
    "  cd = MetaShape_Cal_Data()    # class to hold data.\n",
    "  cal = { \"filename\" : Path(filename),   # filename.split(\"/\")[-1],\n",
    "         \"pixel_size\": pixel_size,\n",
    "          \"units\"     : units\n",
    "        }\n",
    "  cd.filename   = Path(filename)\n",
    "  cd.pixel_size = pixel_size\n",
    "  cd.units      = units\n",
    "  try:\n",
    "    tree = ET.parse( filename )\n",
    "    root = tree.getroot()\n",
    "  except:\n",
    "    cd.error = f\"Et.parse( {filename} ) failed.\"\n",
    "    return cd\n",
    "\n",
    "  if debug:\n",
    "    print(f'debug: root.tag:{root.tag}')\n",
    "  if root.tag == 'calibration':\n",
    "    for child in root:\n",
    "      if debug:\n",
    "        print(f'debug: {child.tag:10s} = {child.text}')\n",
    "      if child.tag == 'projection':\n",
    "        cd.projection = cal[child.tag] = child.text\n",
    "      elif child.tag == 'date':\n",
    "        cd.datetime = cal[child.tag] = dt.datetime.strptime( child.text,\"%Y-%m-%dT%H:%M:%SZ\" )\n",
    "      else:\n",
    "        cal[child.tag] = float(child.text)\n",
    "\n",
    "    if units != 'pixels':\n",
    "      if units   == 'm':\n",
    "        scale = 1.0\n",
    "      elif units == 'mm':\n",
    "        scale = 1000.0\n",
    "\n",
    "      cd.f      = cal['f' ]      * cd.pixel_size * scale\n",
    "      cd.cx     = cal['cx']     * cd.pixel_size * scale\n",
    "      cd.cy     = cal['cy']     * cd.pixel_size * scale\n",
    "      cd.width  = cal['width']  * cd.pixel_size * scale\n",
    "      cd.height = cal['height'] * cd.pixel_size * scale\n",
    "\n",
    "      for k in ['f', 'cx', 'cy', 'width', 'height']:\n",
    "        cal[k] = cal[k] * cal['pixel_size'] * scale\n",
    "\n",
    "    if rv == 'class':\n",
    "      cd.error = 'None'\n",
    "      return cd\n",
    "    elif rv == 'dict':\n",
    "      return cal\n",
    "    elif rv == 'df':\n",
    "      df = pd.DataFrame( [ cal ] )\n",
    "      return df\n",
    "  else:\n",
    "    cd.error = f\"Not a MetaShape calibration file, lacks <calibration> tag.\"\n",
    "    return cd"
   ]
  },
  {
   "cell_type": "markdown",
   "metadata": {},
   "source": [
    "#### Test def read_metashape_camera_cal_file() with rv='class'"
   ]
  },
  {
   "cell_type": "code",
   "execution_count": null,
   "metadata": {},
   "outputs": [],
   "source": [
    "if __name__ == \"__main__\":\n",
    "  cal = read_metashape_camera_cal_file( metashape_cal_filename, units='m', rv='class' )"
   ]
  },
  {
   "cell_type": "code",
   "execution_count": null,
   "metadata": {},
   "outputs": [],
   "source": [
    "if __name__ == \"__main__\":\n",
    "  print(\n",
    "      f\"{cal.error      = }\\n\"\n",
    "      f\"{cal.datetime   = }\\n\"\n",
    "      f\"{cal.filename   = }\\n\"\n",
    "      f\"{cal.pixel_size = }\\n\"\n",
    "      f\"{cal.width      = }\\n\"\n",
    "      f\"{cal.height     = }\\n\"\n",
    "      f\"{cal.projection = }\\n\"\n",
    "      f\"{cal.units      = }\\n\"\n",
    "      f\"{cal.f          = }\\n\"\n",
    "      f\"{cal.cx         = }\\n\"\n",
    "      f\"{cal.cy         = }\\n\"\n",
    "      )\n",
    "\n",
    "  # Dump contents via keys and values.\n",
    "  for k in cal.__dict__.keys():\n",
    "    print(f'{k:15s}= {cal.__dict__[k]}')\n",
    "\n",
    "  # Dump all the parts of the filename\n",
    "  display(cal.filename.parts)\n",
    "\n",
    "  # Show the filename without the path\n",
    "  print(f\"Filename without the path: {cal.filename.name}\")\n",
    "  print(f\"Pathname without the file: {cal.filename.parent}\")"
   ]
  },
  {
   "cell_type": "code",
   "execution_count": null,
   "metadata": {},
   "outputs": [],
   "source": [
    "if __name__ == \"__main__\":\n",
    "  cal = read_metashape_camera_cal_file( metashape_cal_filename, units='m', rv='df' )\n",
    "  display(cal)"
   ]
  },
  {
   "cell_type": "code",
   "execution_count": null,
   "metadata": {},
   "outputs": [],
   "source": [
    "if __name__ == \"__main__\":\n",
    "  cal = read_metashape_camera_cal_file( metashape_cal_filename, debug=True )\n",
    "  display(cal)"
   ]
  },
  {
   "cell_type": "code",
   "execution_count": null,
   "metadata": {},
   "outputs": [],
   "source": [
    "# Test with the wrong file, a non xml file.\n",
    "if __name__ == \"__main__\":\n",
    "  cal = read_metashape_camera_cal_file( inpho_filename, debug=True )\n",
    "  display(cal.error)"
   ]
  },
  {
   "cell_type": "code",
   "execution_count": null,
   "metadata": {},
   "outputs": [],
   "source": [
    "# Test with an xml file which is not a Metashape cal file.\n",
    "if __name__ == \"__main__\":\n",
    "  cal = read_metashape_camera_cal_file( opencv_filename, units='mm' )\n",
    "  display(cal.error)"
   ]
  },
  {
   "cell_type": "markdown",
   "metadata": {},
   "source": [
    "#### Test read_metashape_camera_cal_file() with rv='df"
   ]
  },
  {
   "cell_type": "code",
   "execution_count": null,
   "metadata": {},
   "outputs": [],
   "source": [
    "# Test with df returns.\n",
    "if __name__ == \"__main__\":\n",
    "  cal = read_metashape_camera_cal_file( metashape_cal_filename, units='m', rv='df' )\n",
    "  display(cal)"
   ]
  },
  {
   "cell_type": "markdown",
   "metadata": {},
   "source": [
    "### def read_openCV_camera_cal_file( filename, debug=False )"
   ]
  },
  {
   "cell_type": "code",
   "execution_count": null,
   "metadata": {},
   "outputs": [],
   "source": [
    "class read_openCV_camera_cal_file:\n",
    "  \"\"\"\n",
    "  Read an OpenCV Camera xml Calibration file.\n",
    "  \"\"\"\n",
    "  def __init__(self, filename ):\n",
    "    tree = ET.parse( filename )\n",
    "    root = tree.getroot()\n",
    "    tree.getroot()\n",
    "\n",
    "    #self.filename = filename.split(\"/\")[-1]\n",
    "    filepath = Path( filename )\n",
    "    self.filename  = filepath  #filepath.name\n",
    "    self.datetime = root.findall('calibration_Time')[0].text\n",
    "    self.image_Width = root.findall('image_Width')[0].text\n",
    "    self.image_Height = root.findall('image_Height')[0].text\n",
    "\n",
    "    self.Camera_Matrix_rows = int(root.findall('Camera_Matrix/rows')[0].text)\n",
    "    self.Camera_Matrix_cols = int(root.findall('Camera_Matrix/cols')[0].text)\n",
    "    self.Camera_Matrix_data = root.findall('Camera_Matrix/data')[0].text\n",
    "    lst = root.findall('Camera_Matrix/data')[0].text.strip()\n",
    "    x = re.split('[ \\n]+', lst )\n",
    "    self.Camera_Matrix_data = np.array(x, dtype=float)\n",
    "    self.Camera_Matrix_data.reshape( self.Camera_Matrix_rows,self.Camera_Matrix_cols)\n",
    "\n",
    "    self.Distortion_Coefficients_rows = int(root.findall('Distortion_Coefficients/rows')[0].text)\n",
    "    self.Distortion_Coefficients_cols = int(root.findall('Distortion_Coefficients/cols')[0].text)\n",
    "    lst = root.findall('Distortion_Coefficients/data')[0].text.strip()\n",
    "    x = re.split('[ \\n]+', lst )\n",
    "    self.Distortion_Coefficients_data = np.array(x, dtype=float)\n",
    "\n",
    "    # Add as a MetaShape class.\n",
    "    self.metashape = MetaShape_Cal_Data()\n",
    "    self.metashape.units        = 'pixels'\n",
    "    self.metashape.pixel_size   = 5.5e-6\n",
    "    self.metashape.projection   = 'frame'\n",
    "    self.metashape.filename     = filepath\n",
    "    self.metashape.datetime     = self.datetime\n",
    "    self.metashape.width        = self.image_Width\n",
    "    self.metashape.height       = self.image_Height\n",
    "    self.metashape.f            = self.Camera_Matrix_data[0]\n",
    "    self.metashape.cx           = self.Camera_Matrix_data[2]\n",
    "    self.metashape.cy           = self.Camera_Matrix_data[5]\n",
    "    self.metashape.k1           = self.Distortion_Coefficients_data[0]\n",
    "    self.metashape.k2           = self.Distortion_Coefficients_data[1]\n",
    "    self.metashape.k3           = self.Distortion_Coefficients_data[4]\n",
    "    self.metashape.p1           = self.Distortion_Coefficients_data[3]\n",
    "    self.metashape.p2           = self.Distortion_Coefficients_data[2]"
   ]
  },
  {
   "cell_type": "markdown",
   "metadata": {},
   "source": [
    "#### Test read_openCV_camera_cal_file()\n",
    "\n"
   ]
  },
  {
   "cell_type": "code",
   "execution_count": null,
   "metadata": {},
   "outputs": [],
   "source": [
    "if __name__ == \"__main__\":\n",
    "  cal = read_openCV_camera_cal_file(opencv_filename)\n",
    "\n",
    "  # Dump the data.\n",
    "  print(\"\\n**** openCV elements. ****\")\n",
    "  for k, v in cal.__dict__.items():\n",
    "    print(f'{k:32s} = {v}')\n",
    "\n",
    "  # Dump the metashape data.\n",
    "  print(\"\\n**** MetaShape elements. ****\")\n",
    "  for k, v in cal.metashape.__dict__.items():\n",
    "    print(f'{k:32s} = {v}')\n",
    "\n",
    "  print(\"\\n**** Example reading elements directly ****\")\n",
    "  print(f'{cal.metashape.width = }')"
   ]
  },
  {
   "cell_type": "markdown",
   "metadata": {},
   "source": [
    "### def metashape_cal_to_tsai()"
   ]
  },
  {
   "cell_type": "code",
   "execution_count": null,
   "metadata": {},
   "outputs": [],
   "source": [
    "def metashape_cal_to_tsai( df,               # MetaShape cal dataframe.\n",
    "                          save=True,         # True to save tasi to a file.\n",
    "                           tsai_file='',     # An optional filename to write the tsai data too.\n",
    "                           path=\".\",         # Path to save the file to.\n",
    "                           return_str=False, # True if you want the tsai string returned.\n",
    "                           debug=False       # True debug tis module.\n",
    "                           ) -> str:         # Returns the entire tsai cal string.\n",
    "\n",
    "  # Compute the tsai values from the Metashape cal dataframe.\n",
    "  fu  = fv = df.f[0]\n",
    "  cu  = df.width[0]  / 2 + 0.5 - 1.0 + df.cx[0]\n",
    "  cv  = df.height[0] / 2 + 0.5 - 1.0 + df.cy[0]\n",
    "  k1  = df.k1[0];   k2 = df.k2[0];   p1 = df.p1[0];   p2 = df.p2[0]\n",
    "\n",
    "  # Generate tsai string.\n",
    "  tsai_str = \\\n",
    "       \"VERSION_4\\nPINHOLE\\n\"\\\n",
    "      f\"{fu = :15.12f}\\n{fv = :15.12f}\\n{cu = :15.12f}\\n{cv = :15.12f}\\n\"\\\n",
    "      \"u_direction = 1  0  0\\n\"\\\n",
    "      \"v_direction = 0  1  0\\n\"\\\n",
    "      \"w_direction = 0  0  1\\n\"\\\n",
    "      \"C = 0 0 0\\nR = 1 0 0 0 1 0 0 0 1\\n\"\\\n",
    "      \"pitch = 1.0\\nTSAI\\n\"\\\n",
    "      f\"{k1 = :15.12f}\\n{k2 = :15.12f}\\n{p1 = :15.12f}\\n{p2 = :15.12f}\\n\"\n",
    "\n",
    "  # Save it to a file.  Generate the file name from the agisoft filename.\n",
    "  if save:\n",
    "    if tsai_file:\n",
    "      tsai_fn = Path(path+\"/\"+tsai_file)\n",
    "      if debug:\n",
    "        print(f'Debug: {tsai_fn=}')\n",
    "    else:\n",
    "      # tsai_fn = df.filename[0].split(\".\")[0]+\".tsai\"\n",
    "      tsai_fn = Path(path+\"/\"+df.filename[0].name).with_suffix('.tsai')\n",
    "      if debug:\n",
    "        print(f'Debug: {tsai_fn=}')\n",
    "      # tsai_fn.with_suffix('.tsai')\n",
    "    with open( tsai_fn, 'w') as tsai_file:\n",
    "      tsai_file.write( tsai_str )\n",
    "\n",
    "  if debug:\n",
    "    print(f'debug: {tsai_str:s}')\n",
    "\n",
    "  # Return the tsai string if return_str=True\n",
    "  if return_str:\n",
    "    return tsai_str"
   ]
  },
  {
   "cell_type": "markdown",
   "metadata": {},
   "source": [
    "#### Test def metashape_cal_to_tsai()"
   ]
  },
  {
   "cell_type": "code",
   "execution_count": null,
   "metadata": {},
   "outputs": [],
   "source": [
    "# test metashape_cal_to_tsai( cal )\n",
    "if __name__ == \"__main__\":\n",
    "  cal = read_metashape_camera_cal_file( metashape_cal_filename, units='m', rv='df', debug=True )\n",
    "  display(cal)\n",
    "  print(cal.filename)\n",
    "  metashape_cal_to_tsai( cal )"
   ]
  },
  {
   "cell_type": "code",
   "execution_count": null,
   "metadata": {},
   "outputs": [],
   "source": [
    "# Test with user set file name.\n",
    "if __name__ == \"__main__\":\n",
    "  metashape_cal_to_tsai( cal, tsai_file=\"junk.tsai\" )"
   ]
  },
  {
   "cell_type": "code",
   "execution_count": null,
   "metadata": {},
   "outputs": [],
   "source": [
    "# Test with automatically generated filename\n",
    "if __name__ == \"__main__\":\n",
    "  metashape_cal_to_tsai( cal, debug=True )"
   ]
  },
  {
   "cell_type": "code",
   "execution_count": null,
   "metadata": {},
   "outputs": [],
   "source": [
    "# Test with user set path. Write the test file to /tmp\n",
    "if __name__ == \"__main__\":\n",
    "  metashape_cal_to_tsai( cal, path=\"/tmp\" )"
   ]
  },
  {
   "cell_type": "markdown",
   "metadata": {},
   "source": []
  },
  {
   "cell_type": "markdown",
   "metadata": {},
   "source": [
    "## Experimentation Code"
   ]
  },
  {
   "cell_type": "code",
   "execution_count": null,
   "metadata": {},
   "outputs": [],
   "source": [
    "if __name__ == \"__main__\" and False:\n",
    "  fn = Path(\"/dddd\"+'/content/drive/MyDrive/Colab Notebooks/WWpylib/test_data/we-1500-A1-opencv-camcal.xml')\n",
    "  display(fn.parts)"
   ]
  },
  {
   "cell_type": "code",
   "execution_count": null,
   "metadata": {},
   "outputs": [],
   "source": [
    "if __name__ == \"__main__\" and False:\n",
    "  fn = fn.with_suffix('.tsai')\n",
    "  display(fn)"
   ]
  },
  {
   "cell_type": "code",
   "execution_count": null,
   "metadata": {},
   "outputs": [],
   "source": [
    "# Testing cell.\n",
    "if __name__ == \"__main__\" and False:\n",
    "  filename = Path('/content/drive/MyDrive/Colab Notebooks/WWpylib/test_data/we-1500-A1-agisoft-camcal.xml')\n",
    "  wp = PureWindowsPath(r\"C:\\Users\\mstuding\\OneDrive - NASA\\GitHub_repositories\\ATM-SfM-Production\")\n",
    "  display(wp.parts)"
   ]
  },
  {
   "cell_type": "markdown",
   "metadata": {},
   "source": [
    "## References"
   ]
  },
  {
   "cell_type": "markdown",
   "metadata": {},
   "source": [
    "1. [Medium Article: pathlib](https://medium.com/@ageitgey/python-3-quick-tip-the-easy-way-to-deal-with-file-paths-on-windows-mac-and-linux-11a072b58d5f) path(), PurePosixPath() and PureWindowsPath()"
   ]
  },
  {
   "cell_type": "code",
   "execution_count": null,
   "metadata": {},
   "outputs": [],
   "source": []
  }
 ],
 "metadata": {
  "kernelspec": {
   "display_name": "python3",
   "language": "python",
   "name": "python3"
  }
 },
 "nbformat": 4,
 "nbformat_minor": 4
}
