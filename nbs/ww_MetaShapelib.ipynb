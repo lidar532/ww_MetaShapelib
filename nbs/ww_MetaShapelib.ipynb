{
 "cells": [
  {
   "cell_type": "code",
   "execution_count": null,
   "metadata": {},
   "outputs": [],
   "source": [
    "#|default_exp ww_metashapelib"
   ]
  },
  {
   "cell_type": "markdown",
   "metadata": {},
   "source": [
    "# ww_metashapelib\n",
    "> A Python library for reading and analysing MetaShape reference and camera calibration files."
   ]
  },
  {
   "cell_type": "markdown",
   "metadata": {},
   "source": [
    "#| hide\n",
    "## Imports"
   ]
  },
  {
   "cell_type": "code",
   "execution_count": null,
   "metadata": {},
   "outputs": [],
   "source": [
    "#|export\n",
    "import datetime as              dt\n",
    "import csv\n",
    "from   glob    import           glob\n",
    "import re\n",
    "import os\n",
    "from   io    import             StringIO\n",
    "from pathlib import             Path, PurePosixPath, PureWindowsPath\n",
    "import xml.etree.ElementTree as ET"
   ]
  },
  {
   "cell_type": "code",
   "execution_count": null,
   "metadata": {},
   "outputs": [],
   "source": [
    "#|export\n",
    "import pandas   as              pd"
   ]
  },
  {
   "cell_type": "code",
   "execution_count": null,
   "metadata": {},
   "outputs": [],
   "source": [
    "#|export\n",
    "import numpy    as              np"
   ]
  },
  {
   "cell_type": "markdown",
   "metadata": {},
   "source": [
    "#| hide\n",
    "## Module Data"
   ]
  },
  {
   "cell_type": "markdown",
   "metadata": {},
   "source": [
    "#| hide\n",
    "### Static Data."
   ]
  },
  {
   "cell_type": "code",
   "execution_count": null,
   "metadata": {},
   "outputs": [],
   "source": [
    "#|export\n",
    "# The asof data for this version of the library.\n",
    "asof = '2024-0407-0052'"
   ]
  },
  {
   "cell_type": "markdown",
   "metadata": {},
   "source": [
    "#| hide\n",
    "### Test and Configuration Data\n",
    "These cells setup any files used for testing the functions and classes in this module.  Configurations for testing on Linux/Colab, Linux/wsl2-Jupyter, Linux/Jupyter, and Windows/Jupyter"
   ]
  },
  {
   "cell_type": "markdown",
   "metadata": {},
   "source": [
    "#| hide\n",
    "### All Systems"
   ]
  },
  {
   "cell_type": "code",
   "execution_count": null,
   "metadata": {},
   "outputs": [],
   "source": [
    "#| hide\n",
    "# Set these for all systems.\n",
    "if __name__ == \"__main__\":\n",
    "  metashape_cal_filename = 'we-1500-A1-agisoft-camcal.xml'\n",
    "  metashape_ref_filename = 'we-1500-A1-agisoft-camcal-ref.txt'\n",
    "  inpho_filename         = 'we-1500-A1-inpho-camcal.txt'\n",
    "  opencv_filename        = 'we-1500-A1-opencv-camcal.xml'\n",
    "  ref_test_mask          = '*-ref.txt'"
   ]
  },
  {
   "cell_type": "markdown",
   "metadata": {},
   "source": [
    "#| hide\n",
    "### Colab "
   ]
  },
  {
   "cell_type": "code",
   "execution_count": null,
   "metadata": {},
   "outputs": [
    {
     "name": "stdout",
     "output_type": "stream",
     "text": [
      "Not running on CoLab\n"
     ]
    }
   ],
   "source": [
    "#| hide\n",
    "# Colab setup.\n",
    "# See: https://openincolab.com/ to generate a Colab badge.\n",
    "if __name__ == \"__main__\":\n",
    "  if 'google.colab' not in str(get_ipython()):\n",
    "    print('Not running on CoLab')\n",
    "    IN_COLAB = False\n",
    "  else:\n",
    "    print('Running on Linux/CoLab')\n",
    "    ######################### xximport google.colab\n",
    "    IN_COLAB = True\n",
    "    if os.path.exists('/content/drive') == False:\n",
    "      from google.colab import drive\n",
    "      drive.mount('/content/drive')\n",
    "    else:\n",
    "      print('Google Drive already mounted.')\n",
    "      test_data_dir          = '/content/drive/MyDrive/Colab Notebooks/WWpylib/test_data/'\n",
    "      metashape_cal_filename = test_data_dir + metashape_cal_filename\n",
    "      metashape_ref_filename = test_data_dir + metashape_ref_filename\n",
    "      inpho_filename         = test_data_dir + inpho_filename\n",
    "      opencv_filename        = test_data_dir + opencv_filename\n",
    "      print('\\n**** Testing Files ****')\n",
    "      print(f'{metashape_cal_filename    = }')\n",
    "      print(f'{metashape_ref_filename    = }')\n",
    "      print(f'{inpho_filename            = }')\n",
    "      print(f'{opencv_filename           = }')\n",
    "      print(\"\\n**** Reference data test files ****\")\n",
    "      ref_test_files = glob(f'{test_data_dir}/{ref_test_mask}')\n",
    "      for f in ref_test_files:\n",
    "        print(f)"
   ]
  },
  {
   "cell_type": "markdown",
   "metadata": {},
   "source": [
    "#| hide\n",
    "### Windows/Juypter"
   ]
  },
  {
   "cell_type": "code",
   "execution_count": null,
   "metadata": {},
   "outputs": [],
   "source": [
    "#| hide\n",
    "# Windows setup.\n",
    "if __name__ == \"__main__\" and os.name == 'nt':\n",
    "  print('Running on Windows/Jupyter.')"
   ]
  },
  {
   "cell_type": "markdown",
   "metadata": {},
   "source": [
    "#| hide\n",
    "### Linux/Jupyter"
   ]
  },
  {
   "cell_type": "code",
   "execution_count": null,
   "metadata": {},
   "outputs": [
    {
     "name": "stdout",
     "output_type": "stream",
     "text": [
      "Running on Linux/Jupyter.\n",
      "test_data_dir = '../test_data/'\n",
      "\n",
      "**** Testing Files ****\n",
      "metashape_cal_filename    = '../test_data/../test_data/../test_data/we-1500-A1-agisoft-camcal.xml'\n",
      "metashape_ref_filename    = '../test_data/../test_data/../test_data/we-1500-A1-agisoft-camcal-ref.txt'\n",
      "inpho_filename            = '../test_data/../test_data/../test_data/we-1500-A1-inpho-camcal.txt'\n",
      "opencv_filename           = '../test_data/../test_data/../test_data/we-1500-A1-opencv-camcal.xml'\n",
      "\n",
      "**** Reference data test files ****\n",
      "../test_data/ns1500-ref.txt\n",
      "../test_data/ew1500-ref.txt\n",
      "../test_data/ew2000-ref.txt\n",
      "../test_data/ew1200-ref.txt\n"
     ]
    }
   ],
   "source": [
    "#| hide\n",
    "# Linux/Jupyter setup.\n",
    "if __name__ == \"__main__\" and os.name == 'posix' and not IN_COLAB:\n",
    "  print('Running on Linux/Jupyter.')\n",
    "  test_data_dir          = '../test_data/'\n",
    "  print(f'{test_data_dir = }')\n",
    "  metashape_cal_filename = test_data_dir + metashape_cal_filename\n",
    "  metashape_ref_filename = test_data_dir + metashape_ref_filename\n",
    "  inpho_filename         = test_data_dir + inpho_filename\n",
    "  opencv_filename        = test_data_dir + opencv_filename\n",
    "  print('\\n**** Testing Files ****')\n",
    "  print(f'{metashape_cal_filename    = }')\n",
    "  print(f'{metashape_ref_filename    = }')\n",
    "  print(f'{inpho_filename            = }')\n",
    "  print(f'{opencv_filename           = }')\n",
    "  print(\"\\n**** Reference data test files ****\")\n",
    "  ref_test_files = glob(f'{test_data_dir}/{ref_test_mask}')\n",
    "  for f in ref_test_files:\n",
    "    print(f)"
   ]
  },
  {
   "cell_type": "markdown",
   "metadata": {},
   "source": [
    "#| hide\n",
    "## Functions"
   ]
  },
  {
   "cell_type": "markdown",
   "metadata": {},
   "source": [
    "### class MetaShapeReference"
   ]
  },
  {
   "cell_type": "markdown",
   "metadata": {},
   "source": [
    "Class instance attributes described in the table below are filled in by the `read_metashape_reference_file_into_dataframe()`\n",
    "function.\n",
    "\n",
    "*Table generated with: [Table generator](https://www.tablesgenerator.com/markdown_tables)*\n",
    "\n",
    "| Attribute   | Type      | Description                                                                           |\r\n",
    "|-------------|-----------|---------------------------------------------------------------------------------------|\r\n",
    "| filename    | str       | String containing the filename.                                                       |\r\n",
    "| df          | DataFrame | A pandas Dataframe containing the values extracted from the file.                     |\r\n",
    "| meta        | DataFrame | The contents of the metadata extracted from the header of the file.                   |\r\n",
    "| total_error | class     | A class object containing the elements found in the `Total Error` line from the file. |\r\n",
    "| data        | str       | A copy of the entire string data read from the file.                                  |     |he file."
   ]
  },
  {
   "cell_type": "code",
   "execution_count": null,
   "metadata": {},
   "outputs": [],
   "source": [
    "#|export\n",
    "class MetaShapeReference:\n",
    "  \"\"\"\n",
    "  This class holds data extracted from a MetaShape reference file.\n",
    "  \"\"\"\n",
    "  def __init__(self,\n",
    "               filename:str  # String containing the filename.\n",
    "              ):\n",
    "    self.filename:str      = filename  # String containing the filename.\n",
    "    self.df:obj            = None      # Pandas DataFrame with the reference data.\n",
    "    self.meta:str          = None      # The contents of the header line describing datums, etc.\n",
    "    self.total_error:obj   = None      # A class popuated with the data extracted from the `Total Error` line.\n",
    "    self.data:list         = None      # A list of all lines (strings) extracted from the file."
   ]
  },
  {
   "cell_type": "markdown",
   "metadata": {},
   "source": [
    "#| hide\n",
    "### def read_metashape_reference_file_into_dataframe()"
   ]
  },
  {
   "cell_type": "code",
   "execution_count": null,
   "metadata": {},
   "outputs": [],
   "source": [
    "#|export\n",
    "def read_metashape_reference_file_into_dataframe(\n",
    "    filename           # Metashape reference filename to read.\n",
    "    ) -> pd.DataFrame: # MetashapeReference class data structure.\n",
    "  \"\"\"\n",
    "  Read a Metashape reference file into a MetashapeReference class\n",
    "  and save the data in a Pandas dataframe.  Also save the filename, the\n",
    "  metadata from the comment above the header line, the total_error as\n",
    "  a Pandas Dataframe, and the contents of the specified file in string,\n",
    "  in the returned data structure.\n",
    "  \"\"\"\n",
    "\n",
    "  # Create the Matashape data structure, and save the filename in it.\n",
    "  ref = MetaShapeReference( filename )\n",
    "\n",
    "  # Extract the root filename\n",
    "  ref.root_filename = PurePosixPath(filename).name\n",
    "\n",
    "  # Read the file into a list of lines. so we can get rid of the \"#\" at the start\n",
    "  # of the header line.\n",
    "  with open(filename, 'r') as f:\n",
    "    data = f.readlines()\n",
    "\n",
    "  # Save the whole thing for possible debugging.\n",
    "  ref.data = data\n",
    "\n",
    "  # Save the meta data in the data structure in case the user wants it.\n",
    "  ref.meta = data[0]\n",
    "\n",
    "  # Get rid of the \"#\" at the start of the header line.\n",
    "  if data[1][0:6] == '#Label':\n",
    "    data[1] = data[1][1:]\n",
    "\n",
    "  # Convert the list to a string\n",
    "  ds = ''.join( data )\n",
    "\n",
    "  # Read the string into a Pandas dataframe and store in the data structure.\n",
    "  ref.df = pd.read_csv( StringIO(ds), comment='#')\n",
    "\n",
    "  # Read the last line of the file into a Pandas dataframe and store in the data structure.\n",
    "  # This line has the total error for several columns.\n",
    "  ref.total_error = pd.read_csv( StringIO( data[-1] ), names=ref.df.columns ).dropna(axis=1)\n",
    "  ref.total_error.replace( to_replace=\"#Total error\", value=ref.root_filename, inplace=True )\n",
    "\n",
    "  # Return the data structure.\n",
    "  return ref"
   ]
  },
  {
   "cell_type": "markdown",
   "metadata": {},
   "source": [
    "Generate a list of test reference files."
   ]
  },
  {
   "cell_type": "code",
   "execution_count": null,
   "metadata": {},
   "outputs": [
    {
     "data": {
      "text/plain": [
       "['../test_data/ns1500-ref.txt',\n",
       " '../test_data/ew1500-ref.txt',\n",
       " '../test_data/ew2000-ref.txt',\n",
       " '../test_data/ew1200-ref.txt']"
      ]
     },
     "metadata": {},
     "output_type": "display_data"
    }
   ],
   "source": [
    "#| hide\n",
    "# Gather test reference files.\n",
    "if __name__ == '__main__':\n",
    "  files = glob(f'{test_data_dir}/*-ref.txt')\n",
    "  display(files)"
   ]
  },
  {
   "cell_type": "markdown",
   "metadata": {},
   "source": [
    "Test the function `read_metashape_reference_file_into_dataframe()` by reading in the \n",
    "first file from the list of test files."
   ]
  },
  {
   "cell_type": "code",
   "execution_count": null,
   "metadata": {},
   "outputs": [
    {
     "data": {
      "text/html": [
       "<div>\n",
       "<style scoped>\n",
       "    .dataframe tbody tr th:only-of-type {\n",
       "        vertical-align: middle;\n",
       "    }\n",
       "\n",
       "    .dataframe tbody tr th {\n",
       "        vertical-align: top;\n",
       "    }\n",
       "\n",
       "    .dataframe thead th {\n",
       "        text-align: right;\n",
       "    }\n",
       "</style>\n",
       "<table border=\"1\" class=\"dataframe\">\n",
       "  <thead>\n",
       "    <tr style=\"text-align: right;\">\n",
       "      <th></th>\n",
       "      <th>Label</th>\n",
       "      <th>X/Longitude</th>\n",
       "      <th>Y/Latitude</th>\n",
       "      <th>Z/Altitude</th>\n",
       "      <th>Yaw</th>\n",
       "      <th>Pitch</th>\n",
       "      <th>Roll</th>\n",
       "      <th>Accuracy_X/Y/Z_(m)</th>\n",
       "      <th>Error_(m)</th>\n",
       "      <th>X_error</th>\n",
       "      <th>...</th>\n",
       "      <th>Error_(deg)</th>\n",
       "      <th>Yaw_error</th>\n",
       "      <th>Pitch_error</th>\n",
       "      <th>Roll_error</th>\n",
       "      <th>X_est</th>\n",
       "      <th>Y_est</th>\n",
       "      <th>Z_est</th>\n",
       "      <th>Yaw_est</th>\n",
       "      <th>Pitch_est</th>\n",
       "      <th>Roll_est</th>\n",
       "    </tr>\n",
       "  </thead>\n",
       "  <tbody>\n",
       "    <tr>\n",
       "      <th>0</th>\n",
       "      <td>20190819-172136.9216.jpg</td>\n",
       "      <td>-95.460133</td>\n",
       "      <td>29.121022</td>\n",
       "      <td>456.9397</td>\n",
       "      <td>181.264</td>\n",
       "      <td>3.234</td>\n",
       "      <td>-0.131</td>\n",
       "      <td>0.1</td>\n",
       "      <td>0.009178</td>\n",
       "      <td>-0.003472</td>\n",
       "      <td>...</td>\n",
       "      <td>0.703587</td>\n",
       "      <td>-0.469101</td>\n",
       "      <td>-0.522711</td>\n",
       "      <td>-0.041860</td>\n",
       "      <td>-95.460133</td>\n",
       "      <td>29.121022</td>\n",
       "      <td>456.940095</td>\n",
       "      <td>180.794899</td>\n",
       "      <td>2.711289</td>\n",
       "      <td>-0.172860</td>\n",
       "    </tr>\n",
       "    <tr>\n",
       "      <th>1</th>\n",
       "      <td>20190819-172137.4215.jpg</td>\n",
       "      <td>-95.460132</td>\n",
       "      <td>29.120692</td>\n",
       "      <td>456.2952</td>\n",
       "      <td>181.299</td>\n",
       "      <td>3.313</td>\n",
       "      <td>-0.406</td>\n",
       "      <td>0.1</td>\n",
       "      <td>0.060060</td>\n",
       "      <td>0.027659</td>\n",
       "      <td>...</td>\n",
       "      <td>0.690168</td>\n",
       "      <td>-0.446910</td>\n",
       "      <td>-0.523026</td>\n",
       "      <td>0.055196</td>\n",
       "      <td>-95.460132</td>\n",
       "      <td>29.120692</td>\n",
       "      <td>456.274827</td>\n",
       "      <td>180.852090</td>\n",
       "      <td>2.789974</td>\n",
       "      <td>-0.350804</td>\n",
       "    </tr>\n",
       "    <tr>\n",
       "      <th>2</th>\n",
       "      <td>20190819-172137.9216.jpg</td>\n",
       "      <td>-95.460130</td>\n",
       "      <td>29.120361</td>\n",
       "      <td>455.5638</td>\n",
       "      <td>181.314</td>\n",
       "      <td>3.406</td>\n",
       "      <td>-0.745</td>\n",
       "      <td>0.1</td>\n",
       "      <td>0.053294</td>\n",
       "      <td>-0.015039</td>\n",
       "      <td>...</td>\n",
       "      <td>0.696537</td>\n",
       "      <td>-0.458681</td>\n",
       "      <td>-0.523640</td>\n",
       "      <td>0.024024</td>\n",
       "      <td>-95.460130</td>\n",
       "      <td>29.120362</td>\n",
       "      <td>455.545118</td>\n",
       "      <td>180.855319</td>\n",
       "      <td>2.882360</td>\n",
       "      <td>-0.720976</td>\n",
       "    </tr>\n",
       "  </tbody>\n",
       "</table>\n",
       "<p>3 rows × 22 columns</p>\n",
       "</div>"
      ],
      "text/plain": [
       "                      Label  X/Longitude  Y/Latitude  Z/Altitude      Yaw  \\\n",
       "0  20190819-172136.9216.jpg   -95.460133   29.121022    456.9397  181.264   \n",
       "1  20190819-172137.4215.jpg   -95.460132   29.120692    456.2952  181.299   \n",
       "2  20190819-172137.9216.jpg   -95.460130   29.120361    455.5638  181.314   \n",
       "\n",
       "   Pitch   Roll  Accuracy_X/Y/Z_(m)  Error_(m)   X_error  ...  Error_(deg)  \\\n",
       "0  3.234 -0.131                 0.1   0.009178 -0.003472  ...     0.703587   \n",
       "1  3.313 -0.406                 0.1   0.060060  0.027659  ...     0.690168   \n",
       "2  3.406 -0.745                 0.1   0.053294 -0.015039  ...     0.696537   \n",
       "\n",
       "   Yaw_error  Pitch_error  Roll_error      X_est      Y_est       Z_est  \\\n",
       "0  -0.469101    -0.522711   -0.041860 -95.460133  29.121022  456.940095   \n",
       "1  -0.446910    -0.523026    0.055196 -95.460132  29.120692  456.274827   \n",
       "2  -0.458681    -0.523640    0.024024 -95.460130  29.120362  455.545118   \n",
       "\n",
       "      Yaw_est  Pitch_est  Roll_est  \n",
       "0  180.794899   2.711289 -0.172860  \n",
       "1  180.852090   2.789974 -0.350804  \n",
       "2  180.855319   2.882360 -0.720976  \n",
       "\n",
       "[3 rows x 22 columns]"
      ]
     },
     "metadata": {},
     "output_type": "display_data"
    },
    {
     "data": {
      "text/html": [
       "<div>\n",
       "<style scoped>\n",
       "    .dataframe tbody tr th:only-of-type {\n",
       "        vertical-align: middle;\n",
       "    }\n",
       "\n",
       "    .dataframe tbody tr th {\n",
       "        vertical-align: top;\n",
       "    }\n",
       "\n",
       "    .dataframe thead th {\n",
       "        text-align: right;\n",
       "    }\n",
       "</style>\n",
       "<table border=\"1\" class=\"dataframe\">\n",
       "  <thead>\n",
       "    <tr style=\"text-align: right;\">\n",
       "      <th></th>\n",
       "      <th>Label</th>\n",
       "      <th>X/Longitude</th>\n",
       "      <th>Y/Latitude</th>\n",
       "      <th>Z/Altitude</th>\n",
       "      <th>Yaw</th>\n",
       "      <th>Pitch</th>\n",
       "      <th>Roll</th>\n",
       "      <th>Accuracy_X/Y/Z_(m)</th>\n",
       "      <th>Error_(m)</th>\n",
       "      <th>X_error</th>\n",
       "      <th>...</th>\n",
       "      <th>Error_(deg)</th>\n",
       "      <th>Yaw_error</th>\n",
       "      <th>Pitch_error</th>\n",
       "      <th>Roll_error</th>\n",
       "      <th>X_est</th>\n",
       "      <th>Y_est</th>\n",
       "      <th>Z_est</th>\n",
       "      <th>Yaw_est</th>\n",
       "      <th>Pitch_est</th>\n",
       "      <th>Roll_est</th>\n",
       "    </tr>\n",
       "  </thead>\n",
       "  <tbody>\n",
       "    <tr>\n",
       "      <th>62</th>\n",
       "      <td>20190819-172208.9216.jpg</td>\n",
       "      <td>-95.460071</td>\n",
       "      <td>29.099850</td>\n",
       "      <td>450.4040</td>\n",
       "      <td>182.630</td>\n",
       "      <td>4.662</td>\n",
       "      <td>0.758</td>\n",
       "      <td>0.1</td>\n",
       "      <td>0.052272</td>\n",
       "      <td>-0.006767</td>\n",
       "      <td>...</td>\n",
       "      <td>0.682765</td>\n",
       "      <td>-0.482940</td>\n",
       "      <td>-0.482448</td>\n",
       "      <td>-0.013455</td>\n",
       "      <td>-95.460071</td>\n",
       "      <td>29.099850</td>\n",
       "      <td>450.430421</td>\n",
       "      <td>182.147060</td>\n",
       "      <td>4.179552</td>\n",
       "      <td>0.744545</td>\n",
       "    </tr>\n",
       "    <tr>\n",
       "      <th>63</th>\n",
       "      <td>20190819-172209.4216.jpg</td>\n",
       "      <td>-95.460073</td>\n",
       "      <td>29.099520</td>\n",
       "      <td>450.7224</td>\n",
       "      <td>182.571</td>\n",
       "      <td>4.543</td>\n",
       "      <td>0.354</td>\n",
       "      <td>0.1</td>\n",
       "      <td>0.058395</td>\n",
       "      <td>0.009629</td>\n",
       "      <td>...</td>\n",
       "      <td>0.681117</td>\n",
       "      <td>-0.434328</td>\n",
       "      <td>-0.518919</td>\n",
       "      <td>0.077483</td>\n",
       "      <td>-95.460073</td>\n",
       "      <td>29.099519</td>\n",
       "      <td>450.746367</td>\n",
       "      <td>182.136672</td>\n",
       "      <td>4.024081</td>\n",
       "      <td>0.431483</td>\n",
       "    </tr>\n",
       "    <tr>\n",
       "      <th>64</th>\n",
       "      <td>20190819-172209.9216.jpg</td>\n",
       "      <td>-95.460074</td>\n",
       "      <td>29.099189</td>\n",
       "      <td>450.9248</td>\n",
       "      <td>182.517</td>\n",
       "      <td>4.464</td>\n",
       "      <td>0.040</td>\n",
       "      <td>0.1</td>\n",
       "      <td>0.036471</td>\n",
       "      <td>-0.030250</td>\n",
       "      <td>...</td>\n",
       "      <td>0.755245</td>\n",
       "      <td>-0.468619</td>\n",
       "      <td>-0.547082</td>\n",
       "      <td>-0.226917</td>\n",
       "      <td>-95.460074</td>\n",
       "      <td>29.099189</td>\n",
       "      <td>450.944385</td>\n",
       "      <td>182.048381</td>\n",
       "      <td>3.916918</td>\n",
       "      <td>-0.186917</td>\n",
       "    </tr>\n",
       "  </tbody>\n",
       "</table>\n",
       "<p>3 rows × 22 columns</p>\n",
       "</div>"
      ],
      "text/plain": [
       "                       Label  X/Longitude  Y/Latitude  Z/Altitude      Yaw  \\\n",
       "62  20190819-172208.9216.jpg   -95.460071   29.099850    450.4040  182.630   \n",
       "63  20190819-172209.4216.jpg   -95.460073   29.099520    450.7224  182.571   \n",
       "64  20190819-172209.9216.jpg   -95.460074   29.099189    450.9248  182.517   \n",
       "\n",
       "    Pitch   Roll  Accuracy_X/Y/Z_(m)  Error_(m)   X_error  ...  Error_(deg)  \\\n",
       "62  4.662  0.758                 0.1   0.052272 -0.006767  ...     0.682765   \n",
       "63  4.543  0.354                 0.1   0.058395  0.009629  ...     0.681117   \n",
       "64  4.464  0.040                 0.1   0.036471 -0.030250  ...     0.755245   \n",
       "\n",
       "    Yaw_error  Pitch_error  Roll_error      X_est      Y_est       Z_est  \\\n",
       "62  -0.482940    -0.482448   -0.013455 -95.460071  29.099850  450.430421   \n",
       "63  -0.434328    -0.518919    0.077483 -95.460073  29.099519  450.746367   \n",
       "64  -0.468619    -0.547082   -0.226917 -95.460074  29.099189  450.944385   \n",
       "\n",
       "       Yaw_est  Pitch_est  Roll_est  \n",
       "62  182.147060   4.179552  0.744545  \n",
       "63  182.136672   4.024081  0.431483  \n",
       "64  182.048381   3.916918 -0.186917  \n",
       "\n",
       "[3 rows x 22 columns]"
      ]
     },
     "metadata": {},
     "output_type": "display_data"
    },
    {
     "data": {
      "text/html": [
       "<div>\n",
       "<style scoped>\n",
       "    .dataframe tbody tr th:only-of-type {\n",
       "        vertical-align: middle;\n",
       "    }\n",
       "\n",
       "    .dataframe tbody tr th {\n",
       "        vertical-align: top;\n",
       "    }\n",
       "\n",
       "    .dataframe thead th {\n",
       "        text-align: right;\n",
       "    }\n",
       "</style>\n",
       "<table border=\"1\" class=\"dataframe\">\n",
       "  <thead>\n",
       "    <tr style=\"text-align: right;\">\n",
       "      <th></th>\n",
       "      <th>Label</th>\n",
       "      <th>Error_(m)</th>\n",
       "      <th>X_error</th>\n",
       "      <th>Y_error</th>\n",
       "      <th>Z_error</th>\n",
       "      <th>Error_(deg)</th>\n",
       "      <th>Yaw_error</th>\n",
       "      <th>Pitch_error</th>\n",
       "      <th>Roll_error</th>\n",
       "    </tr>\n",
       "  </thead>\n",
       "  <tbody>\n",
       "    <tr>\n",
       "      <th>0</th>\n",
       "      <td>ns1500-ref.txt</td>\n",
       "      <td>0.042235</td>\n",
       "      <td>0.027437</td>\n",
       "      <td>0.026548</td>\n",
       "      <td>0.018061</td>\n",
       "      <td>0.700134</td>\n",
       "      <td>0.459896</td>\n",
       "      <td>0.520026</td>\n",
       "      <td>0.090862</td>\n",
       "    </tr>\n",
       "  </tbody>\n",
       "</table>\n",
       "</div>"
      ],
      "text/plain": [
       "            Label  Error_(m)   X_error   Y_error   Z_error  Error_(deg)  \\\n",
       "0  ns1500-ref.txt   0.042235  0.027437  0.026548  0.018061     0.700134   \n",
       "\n",
       "   Yaw_error  Pitch_error  Roll_error  \n",
       "0   0.459896     0.520026    0.090862  "
      ]
     },
     "metadata": {},
     "output_type": "display_data"
    }
   ],
   "source": [
    "#| hide\n",
    "# Test with a single ref file.\n",
    "if __name__ == \"__main__\":\n",
    "  ref = read_metashape_reference_file_into_dataframe( files[0] )\n",
    "  display(ref.df.head(3), ref.df.tail(3), ref.total_error)"
   ]
  },
  {
   "cell_type": "markdown",
   "metadata": {},
   "source": [
    "#| hide\n",
    "### def read_metashape_reference_file_total_errors()"
   ]
  },
  {
   "cell_type": "code",
   "execution_count": null,
   "metadata": {},
   "outputs": [],
   "source": [
    "#|export\n",
    "def read_metashape_reference_file_total_errors( \n",
    "    filename:str   # Filename of a MetaShape reference file. \n",
    ") ->object:        # Pandas dataframe containing the entries from the `Total Error` line  in the file.\n",
    "  \"\"\"\n",
    "  Reads a `MetaShape` reference file into a Pandas Dataframe.\n",
    "  \"\"\"\n",
    "  df = read_metashape_reference_file_into_dataframe( filename )\n",
    "  s = df.df['Label'][0].split('.')[0]\n",
    "  dtime = dt.datetime.strptime(s, '%Y%m%d-%H%M%S')\n",
    "  df.total_error['datetime'] = dtime\n",
    "  return df.total_error"
   ]
  },
  {
   "cell_type": "markdown",
   "metadata": {},
   "source": [
    "Test the file and display the resulting Pandas Dataframe."
   ]
  },
  {
   "cell_type": "code",
   "execution_count": null,
   "metadata": {},
   "outputs": [
    {
     "data": {
      "text/html": [
       "<div>\n",
       "<style scoped>\n",
       "    .dataframe tbody tr th:only-of-type {\n",
       "        vertical-align: middle;\n",
       "    }\n",
       "\n",
       "    .dataframe tbody tr th {\n",
       "        vertical-align: top;\n",
       "    }\n",
       "\n",
       "    .dataframe thead th {\n",
       "        text-align: right;\n",
       "    }\n",
       "</style>\n",
       "<table border=\"1\" class=\"dataframe\">\n",
       "  <thead>\n",
       "    <tr style=\"text-align: right;\">\n",
       "      <th></th>\n",
       "      <th>Label</th>\n",
       "      <th>Error_(m)</th>\n",
       "      <th>X_error</th>\n",
       "      <th>Y_error</th>\n",
       "      <th>Z_error</th>\n",
       "      <th>Error_(deg)</th>\n",
       "      <th>Yaw_error</th>\n",
       "      <th>Pitch_error</th>\n",
       "      <th>Roll_error</th>\n",
       "      <th>datetime</th>\n",
       "    </tr>\n",
       "  </thead>\n",
       "  <tbody>\n",
       "    <tr>\n",
       "      <th>0</th>\n",
       "      <td>ns1500-ref.txt</td>\n",
       "      <td>0.042235</td>\n",
       "      <td>0.027437</td>\n",
       "      <td>0.026548</td>\n",
       "      <td>0.018061</td>\n",
       "      <td>0.700134</td>\n",
       "      <td>0.459896</td>\n",
       "      <td>0.520026</td>\n",
       "      <td>0.090862</td>\n",
       "      <td>2019-08-19 17:21:36</td>\n",
       "    </tr>\n",
       "  </tbody>\n",
       "</table>\n",
       "</div>"
      ],
      "text/plain": [
       "            Label  Error_(m)   X_error   Y_error   Z_error  Error_(deg)  \\\n",
       "0  ns1500-ref.txt   0.042235  0.027437  0.026548  0.018061     0.700134   \n",
       "\n",
       "   Yaw_error  Pitch_error  Roll_error            datetime  \n",
       "0   0.459896     0.520026    0.090862 2019-08-19 17:21:36  "
      ]
     },
     "metadata": {},
     "output_type": "display_data"
    }
   ],
   "source": [
    "#| hide\n",
    "# Test read_metashape_reference_file_total_errors()\n",
    "if __name__ == '__main__':\n",
    "  df = read_metashape_reference_file_total_errors( ref_test_files[0] )\n",
    "  display(df)"
   ]
  },
  {
   "cell_type": "markdown",
   "metadata": {},
   "source": [
    "Test read_metashape_reference_file_total_errors() with multiple files"
   ]
  },
  {
   "cell_type": "code",
   "execution_count": null,
   "metadata": {},
   "outputs": [
    {
     "data": {
      "text/html": [
       "<div>\n",
       "<style scoped>\n",
       "    .dataframe tbody tr th:only-of-type {\n",
       "        vertical-align: middle;\n",
       "    }\n",
       "\n",
       "    .dataframe tbody tr th {\n",
       "        vertical-align: top;\n",
       "    }\n",
       "\n",
       "    .dataframe thead th {\n",
       "        text-align: right;\n",
       "    }\n",
       "</style>\n",
       "<table border=\"1\" class=\"dataframe\">\n",
       "  <thead>\n",
       "    <tr style=\"text-align: right;\">\n",
       "      <th></th>\n",
       "      <th>Label</th>\n",
       "      <th>Error_(m)</th>\n",
       "      <th>X_error</th>\n",
       "      <th>Y_error</th>\n",
       "      <th>Z_error</th>\n",
       "      <th>Error_(deg)</th>\n",
       "      <th>Yaw_error</th>\n",
       "      <th>Pitch_error</th>\n",
       "      <th>Roll_error</th>\n",
       "      <th>datetime</th>\n",
       "    </tr>\n",
       "  </thead>\n",
       "  <tbody>\n",
       "    <tr>\n",
       "      <th>0</th>\n",
       "      <td>ns1500-ref.txt</td>\n",
       "      <td>0.042235</td>\n",
       "      <td>0.027437</td>\n",
       "      <td>0.026548</td>\n",
       "      <td>0.018061</td>\n",
       "      <td>0.700134</td>\n",
       "      <td>0.459896</td>\n",
       "      <td>0.520026</td>\n",
       "      <td>0.090862</td>\n",
       "      <td>2019-08-19 17:21:36</td>\n",
       "    </tr>\n",
       "    <tr>\n",
       "      <th>0</th>\n",
       "      <td>ew1500-ref.txt</td>\n",
       "      <td>0.053197</td>\n",
       "      <td>0.040021</td>\n",
       "      <td>0.030392</td>\n",
       "      <td>0.017453</td>\n",
       "      <td>0.666923</td>\n",
       "      <td>0.444327</td>\n",
       "      <td>0.478524</td>\n",
       "      <td>0.135554</td>\n",
       "      <td>2019-08-19 17:32:33</td>\n",
       "    </tr>\n",
       "    <tr>\n",
       "      <th>0</th>\n",
       "      <td>ew2000-ref.txt</td>\n",
       "      <td>0.054781</td>\n",
       "      <td>0.033468</td>\n",
       "      <td>0.039589</td>\n",
       "      <td>0.017709</td>\n",
       "      <td>0.647979</td>\n",
       "      <td>0.459748</td>\n",
       "      <td>0.436593</td>\n",
       "      <td>0.133774</td>\n",
       "      <td>2019-08-19 17:08:47</td>\n",
       "    </tr>\n",
       "    <tr>\n",
       "      <th>0</th>\n",
       "      <td>ew1200-ref.txt</td>\n",
       "      <td>0.230996</td>\n",
       "      <td>0.041630</td>\n",
       "      <td>0.128267</td>\n",
       "      <td>0.187547</td>\n",
       "      <td>0.639768</td>\n",
       "      <td>0.439518</td>\n",
       "      <td>0.450201</td>\n",
       "      <td>0.115958</td>\n",
       "      <td>2019-08-19 16:56:31</td>\n",
       "    </tr>\n",
       "  </tbody>\n",
       "</table>\n",
       "</div>"
      ],
      "text/plain": [
       "            Label  Error_(m)   X_error   Y_error   Z_error  Error_(deg)  \\\n",
       "0  ns1500-ref.txt   0.042235  0.027437  0.026548  0.018061     0.700134   \n",
       "0  ew1500-ref.txt   0.053197  0.040021  0.030392  0.017453     0.666923   \n",
       "0  ew2000-ref.txt   0.054781  0.033468  0.039589  0.017709     0.647979   \n",
       "0  ew1200-ref.txt   0.230996  0.041630  0.128267  0.187547     0.639768   \n",
       "\n",
       "   Yaw_error  Pitch_error  Roll_error            datetime  \n",
       "0   0.459896     0.520026    0.090862 2019-08-19 17:21:36  \n",
       "0   0.444327     0.478524    0.135554 2019-08-19 17:32:33  \n",
       "0   0.459748     0.436593    0.133774 2019-08-19 17:08:47  \n",
       "0   0.439518     0.450201    0.115958 2019-08-19 16:56:31  "
      ]
     },
     "metadata": {},
     "output_type": "display_data"
    }
   ],
   "source": [
    "#| hide\n",
    "# Test read_metashape_reference_file_total_errors() with multiple files\n",
    "if __name__ == '__main__':\n",
    "  df = pd.DataFrame() # read_metashape_reference_file_total_errors( ref_test_files[0] )\n",
    "  for f in ref_test_files:\n",
    "    dfn = read_metashape_reference_file_total_errors( f )\n",
    "    df = pd.concat( [df, dfn] )\n",
    "  display(df)"
   ]
  },
  {
   "cell_type": "code",
   "execution_count": null,
   "metadata": {},
   "outputs": [],
   "source": [
    "#|export\n",
    "class MetaShape_ref_total_errors:\n",
    "  \"\"\"\n",
    "  This class is populated with the `Total Error` values from the Agisoft MetaShape reference export file.  It \n",
    "  is populated by the `read_metashape_reference_dir_total_errors()` function. Once populated it will \n",
    "  containt the path name `self.path` of the directory where the reference files are located, and a Pandas\n",
    "  Dataframe `self.df` which contains the actual data from the `Total Errors`.\n",
    "  \"\"\"\n",
    "  def __init__(self):\n",
    "    self.path   = None\n",
    "    self.df     = None"
   ]
  },
  {
   "cell_type": "markdown",
   "metadata": {},
   "source": [
    "#| hide\n",
    "### def read_metashape_reference_dir_total_errors()"
   ]
  },
  {
   "cell_type": "code",
   "execution_count": null,
   "metadata": {},
   "outputs": [],
   "source": [
    "#|export\n",
    "def read_metashape_reference_dir_total_errors(\n",
    "    dir_path:str,         # Path to MetaShape reference data files.\n",
    "    mask:str='*-ref.txt'  # Mask to select the reference files.\n",
    "    ) -> object:          # Class with path and dataframe attributes\n",
    "  \"\"\"\n",
    "  Reads all MetaShape files matching `mask` in the specified `path`.  The `Total Error`\n",
    "  from each file is extracted and loaded into a row in a Pandas Dataframe which is \n",
    "  returned to the user for analysis.  \n",
    "  \"\"\"\n",
    "  df = pd.DataFrame()\n",
    "  rv = MetaShape_ref_total_errors()\n",
    "  rv.path = dir_path\n",
    "  for f in glob(f'{dir_path}/{mask}'):\n",
    "    dfn = read_metashape_reference_file_total_errors( f )\n",
    "    df = pd.concat( [df, dfn] )\n",
    "  v = df.pop('datetime')            # Move 'datetime' to be the second column\n",
    "  df.insert(1, 'datetime', v)\n",
    "  df.reset_index(drop=True, inplace=True)\n",
    "  rv.df = df\n",
    "  return rv"
   ]
  },
  {
   "cell_type": "markdown",
   "metadata": {},
   "source": [
    "#| hide\n",
    "#### Test def read_metashape_reference_dir_total_errors()"
   ]
  },
  {
   "cell_type": "markdown",
   "metadata": {},
   "source": [
    "Test read_metashape_reference_file_total_errors() with multiple files"
   ]
  },
  {
   "cell_type": "code",
   "execution_count": null,
   "metadata": {},
   "outputs": [
    {
     "data": {
      "text/plain": [
       "'../test_data/'"
      ]
     },
     "metadata": {},
     "output_type": "display_data"
    },
    {
     "data": {
      "text/html": [
       "<div>\n",
       "<style scoped>\n",
       "    .dataframe tbody tr th:only-of-type {\n",
       "        vertical-align: middle;\n",
       "    }\n",
       "\n",
       "    .dataframe tbody tr th {\n",
       "        vertical-align: top;\n",
       "    }\n",
       "\n",
       "    .dataframe thead th {\n",
       "        text-align: right;\n",
       "    }\n",
       "</style>\n",
       "<table border=\"1\" class=\"dataframe\">\n",
       "  <thead>\n",
       "    <tr style=\"text-align: right;\">\n",
       "      <th></th>\n",
       "      <th>Label</th>\n",
       "      <th>datetime</th>\n",
       "      <th>Error_(m)</th>\n",
       "      <th>X_error</th>\n",
       "      <th>Y_error</th>\n",
       "      <th>Z_error</th>\n",
       "      <th>Error_(deg)</th>\n",
       "      <th>Yaw_error</th>\n",
       "      <th>Pitch_error</th>\n",
       "      <th>Roll_error</th>\n",
       "    </tr>\n",
       "  </thead>\n",
       "  <tbody>\n",
       "    <tr>\n",
       "      <th>0</th>\n",
       "      <td>ns1500-ref.txt</td>\n",
       "      <td>2019-08-19 17:21:36</td>\n",
       "      <td>0.042235</td>\n",
       "      <td>0.027437</td>\n",
       "      <td>0.026548</td>\n",
       "      <td>0.018061</td>\n",
       "      <td>0.700134</td>\n",
       "      <td>0.459896</td>\n",
       "      <td>0.520026</td>\n",
       "      <td>0.090862</td>\n",
       "    </tr>\n",
       "    <tr>\n",
       "      <th>1</th>\n",
       "      <td>ew1500-ref.txt</td>\n",
       "      <td>2019-08-19 17:32:33</td>\n",
       "      <td>0.053197</td>\n",
       "      <td>0.040021</td>\n",
       "      <td>0.030392</td>\n",
       "      <td>0.017453</td>\n",
       "      <td>0.666923</td>\n",
       "      <td>0.444327</td>\n",
       "      <td>0.478524</td>\n",
       "      <td>0.135554</td>\n",
       "    </tr>\n",
       "    <tr>\n",
       "      <th>2</th>\n",
       "      <td>ew2000-ref.txt</td>\n",
       "      <td>2019-08-19 17:08:47</td>\n",
       "      <td>0.054781</td>\n",
       "      <td>0.033468</td>\n",
       "      <td>0.039589</td>\n",
       "      <td>0.017709</td>\n",
       "      <td>0.647979</td>\n",
       "      <td>0.459748</td>\n",
       "      <td>0.436593</td>\n",
       "      <td>0.133774</td>\n",
       "    </tr>\n",
       "    <tr>\n",
       "      <th>3</th>\n",
       "      <td>ew1200-ref.txt</td>\n",
       "      <td>2019-08-19 16:56:31</td>\n",
       "      <td>0.230996</td>\n",
       "      <td>0.041630</td>\n",
       "      <td>0.128267</td>\n",
       "      <td>0.187547</td>\n",
       "      <td>0.639768</td>\n",
       "      <td>0.439518</td>\n",
       "      <td>0.450201</td>\n",
       "      <td>0.115958</td>\n",
       "    </tr>\n",
       "  </tbody>\n",
       "</table>\n",
       "</div>"
      ],
      "text/plain": [
       "            Label            datetime  Error_(m)   X_error   Y_error  \\\n",
       "0  ns1500-ref.txt 2019-08-19 17:21:36   0.042235  0.027437  0.026548   \n",
       "1  ew1500-ref.txt 2019-08-19 17:32:33   0.053197  0.040021  0.030392   \n",
       "2  ew2000-ref.txt 2019-08-19 17:08:47   0.054781  0.033468  0.039589   \n",
       "3  ew1200-ref.txt 2019-08-19 16:56:31   0.230996  0.041630  0.128267   \n",
       "\n",
       "    Z_error  Error_(deg)  Yaw_error  Pitch_error  Roll_error  \n",
       "0  0.018061     0.700134   0.459896     0.520026    0.090862  \n",
       "1  0.017453     0.666923   0.444327     0.478524    0.135554  \n",
       "2  0.017709     0.647979   0.459748     0.436593    0.133774  \n",
       "3  0.187547     0.639768   0.439518     0.450201    0.115958  "
      ]
     },
     "metadata": {},
     "output_type": "display_data"
    }
   ],
   "source": [
    "#| hide\n",
    "# Test read_metashape_reference_file_total_errors() with multiple files\n",
    "if __name__ == '__main__':\n",
    "  rv = read_metashape_reference_dir_total_errors( test_data_dir )\n",
    "  display(rv.path, rv.df)"
   ]
  },
  {
   "cell_type": "markdown",
   "metadata": {},
   "source": [
    "#| hide\n",
    "### class MetaShape_Cal_Data()"
   ]
  },
  {
   "cell_type": "markdown",
   "metadata": {},
   "source": [
    "Class holds camera calibration data extracted from a `MetaShape` camera calibration file.  This \n",
    "class is populated by the `read_metashape_camera_cal_file()` function."
   ]
  },
  {
   "cell_type": "code",
   "execution_count": null,
   "metadata": {},
   "outputs": [],
   "source": [
    "#|export\n",
    "class MetaShape_Cal_Data():\n",
    "  def __init__(self):\n",
    "    self.filename   = None\n",
    "    self.datetime   = None\n",
    "    self.projection = None\n",
    "    self.units      = None\n",
    "    self.pixel_size = None\n",
    "    self.f          = None\n",
    "    self.cx         = None\n",
    "    self.cy         = None\n",
    "    self.width      = None\n",
    "    self.height     = None\n",
    "    self.error      = None"
   ]
  },
  {
   "cell_type": "markdown",
   "metadata": {},
   "source": [
    "#| hide\n",
    "### def read_metashape_camera_cal_file()"
   ]
  },
  {
   "cell_type": "code",
   "execution_count": null,
   "metadata": {},
   "outputs": [],
   "source": [
    "#|export\n",
    "def read_metashape_camera_cal_file(\n",
    "    filename,              # The MetaShape xml calibration file to read.\n",
    "    pixel_size  = 5.5e-6,  # Pixel size in meters.\n",
    "    units = 'pixels',      # Can be \"pixels\", \"m\", or \"mm\"\n",
    "    rv = 'dict',           # R value. Can be \"dict\" or \"df\" or \"class\"\n",
    "    debug=False            #\n",
    "    ) -> dict:             #\n",
    "  \"\"\"\n",
    "  Read a Metashape xml camera calibration file into a dictionary. Values\n",
    "  can be converted from pixels to meters, or millimeters. Be sure to\n",
    "  specify the pixel size in meters.\n",
    "  \"\"\"\n",
    "  cd = MetaShape_Cal_Data()    # class to hold data.\n",
    "  cal = { \"filename\" : Path(filename),   # filename.split(\"/\")[-1],\n",
    "         \"pixel_size\": pixel_size,\n",
    "          \"units\"     : units\n",
    "        }\n",
    "  cd.filename   = Path(filename)\n",
    "  cd.pixel_size = pixel_size\n",
    "  cd.units      = units\n",
    "  try:\n",
    "    tree = ET.parse( filename )\n",
    "    root = tree.getroot()\n",
    "  except:\n",
    "    cd.error = f\"Et.parse( {filename} ) failed.\"\n",
    "    return cd\n",
    "\n",
    "  if debug:\n",
    "    print(f'debug: root.tag:{root.tag}')\n",
    "  if root.tag == 'calibration':\n",
    "    for child in root:\n",
    "      if debug:\n",
    "        print(f'debug: {child.tag:10s} = {child.text}')\n",
    "      if child.tag == 'projection':\n",
    "        cd.projection = cal[child.tag] = child.text\n",
    "      elif child.tag == 'date':\n",
    "        cd.datetime = cal[child.tag] = dt.datetime.strptime( child.text,\"%Y-%m-%dT%H:%M:%SZ\" )\n",
    "      else:\n",
    "        cal[child.tag] = float(child.text)\n",
    "\n",
    "    if units != 'pixels':\n",
    "      if units   == 'm':\n",
    "        scale = 1.0\n",
    "      elif units == 'mm':\n",
    "        scale = 1000.0\n",
    "\n",
    "      cd.f      = cal['f' ]      * cd.pixel_size * scale\n",
    "      cd.cx     = cal['cx']     * cd.pixel_size * scale\n",
    "      cd.cy     = cal['cy']     * cd.pixel_size * scale\n",
    "      cd.width  = cal['width']  * cd.pixel_size * scale\n",
    "      cd.height = cal['height'] * cd.pixel_size * scale\n",
    "\n",
    "      for k in ['f', 'cx', 'cy', 'width', 'height']:\n",
    "        cal[k] = cal[k] * cal['pixel_size'] * scale\n",
    "\n",
    "    if rv == 'class':\n",
    "      cd.error = 'None'\n",
    "      return cd\n",
    "    elif rv == 'dict':\n",
    "      return cal\n",
    "    elif rv == 'df':\n",
    "      df = pd.DataFrame( [ cal ] )\n",
    "      return df\n",
    "  else:\n",
    "    cd.error = f\"Not a MetaShape calibration file, lacks <calibration> tag.\"\n",
    "    return cd"
   ]
  },
  {
   "cell_type": "markdown",
   "metadata": {},
   "source": [
    "#| hide\n",
    "#### Test def read_metashape_camera_cal_file() with rv='class'"
   ]
  },
  {
   "cell_type": "code",
   "execution_count": null,
   "metadata": {},
   "outputs": [],
   "source": [
    "if __name__ == \"__main__\":\n",
    "  cal = read_metashape_camera_cal_file( metashape_cal_filename, units='m', rv='class' )"
   ]
  },
  {
   "cell_type": "code",
   "execution_count": null,
   "metadata": {},
   "outputs": [
    {
     "name": "stdout",
     "output_type": "stream",
     "text": [
      "cal.error      = 'None'\n",
      "cal.datetime   = datetime.datetime(2024, 4, 4, 4, 49, 48)\n",
      "cal.filename   = PosixPath('../test_data/we-1500-A1-agisoft-camcal.xml')\n",
      "cal.pixel_size = 5.5e-06\n",
      "cal.width      = 0.026928\n",
      "cal.height     = 0.017952\n",
      "cal.projection = 'frame'\n",
      "cal.units      = 'm'\n",
      "cal.f          = 0.028751982753143952\n",
      "cal.cx         = 6.456287348269344e-05\n",
      "cal.cy         = -4.784378165888971e-05\n",
      "\n",
      "filename       = ../test_data/we-1500-A1-agisoft-camcal.xml\n",
      "datetime       = 2024-04-04 04:49:48\n",
      "projection     = frame\n",
      "units          = m\n",
      "pixel_size     = 5.5e-06\n",
      "f              = 0.028751982753143952\n",
      "cx             = 6.456287348269344e-05\n",
      "cy             = -4.784378165888971e-05\n",
      "width          = 0.026928\n",
      "height         = 0.017952\n",
      "error          = None\n"
     ]
    },
    {
     "data": {
      "text/plain": [
       "('..', 'test_data', 'we-1500-A1-agisoft-camcal.xml')"
      ]
     },
     "metadata": {},
     "output_type": "display_data"
    },
    {
     "name": "stdout",
     "output_type": "stream",
     "text": [
      "Filename without the path: we-1500-A1-agisoft-camcal.xml\n",
      "Pathname without the file: ../test_data\n"
     ]
    }
   ],
   "source": [
    "if __name__ == \"__main__\":\n",
    "  print(\n",
    "      f\"{cal.error      = }\\n\"\n",
    "      f\"{cal.datetime   = }\\n\"\n",
    "      f\"{cal.filename   = }\\n\"\n",
    "      f\"{cal.pixel_size = }\\n\"\n",
    "      f\"{cal.width      = }\\n\"\n",
    "      f\"{cal.height     = }\\n\"\n",
    "      f\"{cal.projection = }\\n\"\n",
    "      f\"{cal.units      = }\\n\"\n",
    "      f\"{cal.f          = }\\n\"\n",
    "      f\"{cal.cx         = }\\n\"\n",
    "      f\"{cal.cy         = }\\n\"\n",
    "      )\n",
    "\n",
    "  # Dump contents via keys and values.\n",
    "  for k in cal.__dict__.keys():\n",
    "    print(f'{k:15s}= {cal.__dict__[k]}')\n",
    "\n",
    "  # Dump all the parts of the filename\n",
    "  display(cal.filename.parts)\n",
    "\n",
    "  # Show the filename without the path\n",
    "  print(f\"Filename without the path: {cal.filename.name}\")\n",
    "  print(f\"Pathname without the file: {cal.filename.parent}\")"
   ]
  },
  {
   "cell_type": "code",
   "execution_count": null,
   "metadata": {},
   "outputs": [
    {
     "data": {
      "text/html": [
       "<div>\n",
       "<style scoped>\n",
       "    .dataframe tbody tr th:only-of-type {\n",
       "        vertical-align: middle;\n",
       "    }\n",
       "\n",
       "    .dataframe tbody tr th {\n",
       "        vertical-align: top;\n",
       "    }\n",
       "\n",
       "    .dataframe thead th {\n",
       "        text-align: right;\n",
       "    }\n",
       "</style>\n",
       "<table border=\"1\" class=\"dataframe\">\n",
       "  <thead>\n",
       "    <tr style=\"text-align: right;\">\n",
       "      <th></th>\n",
       "      <th>filename</th>\n",
       "      <th>pixel_size</th>\n",
       "      <th>units</th>\n",
       "      <th>projection</th>\n",
       "      <th>width</th>\n",
       "      <th>height</th>\n",
       "      <th>f</th>\n",
       "      <th>cx</th>\n",
       "      <th>cy</th>\n",
       "      <th>k1</th>\n",
       "      <th>k2</th>\n",
       "      <th>k3</th>\n",
       "      <th>p1</th>\n",
       "      <th>p2</th>\n",
       "      <th>date</th>\n",
       "    </tr>\n",
       "  </thead>\n",
       "  <tbody>\n",
       "    <tr>\n",
       "      <th>0</th>\n",
       "      <td>../test_data/we-1500-A1-agisoft-camcal.xml</td>\n",
       "      <td>0.000005</td>\n",
       "      <td>m</td>\n",
       "      <td>frame</td>\n",
       "      <td>0.026928</td>\n",
       "      <td>0.017952</td>\n",
       "      <td>0.028752</td>\n",
       "      <td>0.000065</td>\n",
       "      <td>-0.000048</td>\n",
       "      <td>-0.094197</td>\n",
       "      <td>0.115036</td>\n",
       "      <td>-0.032238</td>\n",
       "      <td>-0.000257</td>\n",
       "      <td>-0.000354</td>\n",
       "      <td>2024-04-04 04:49:48</td>\n",
       "    </tr>\n",
       "  </tbody>\n",
       "</table>\n",
       "</div>"
      ],
      "text/plain": [
       "                                     filename  pixel_size units projection  \\\n",
       "0  ../test_data/we-1500-A1-agisoft-camcal.xml    0.000005     m      frame   \n",
       "\n",
       "      width    height         f        cx        cy        k1        k2  \\\n",
       "0  0.026928  0.017952  0.028752  0.000065 -0.000048 -0.094197  0.115036   \n",
       "\n",
       "         k3        p1        p2                date  \n",
       "0 -0.032238 -0.000257 -0.000354 2024-04-04 04:49:48  "
      ]
     },
     "metadata": {},
     "output_type": "display_data"
    }
   ],
   "source": [
    "if __name__ == \"__main__\":\n",
    "  cal = read_metashape_camera_cal_file( metashape_cal_filename, units='m', rv='df' )\n",
    "  display(cal)"
   ]
  },
  {
   "cell_type": "code",
   "execution_count": null,
   "metadata": {},
   "outputs": [
    {
     "name": "stdout",
     "output_type": "stream",
     "text": [
      "debug: root.tag:calibration\n",
      "debug: projection = frame\n",
      "debug: width      = 4896\n",
      "debug: height     = 3264\n",
      "debug: f          = 5227.6332278443551\n",
      "debug: cx         = 11.738704269580627\n",
      "debug: cy         = -8.6988693925254026\n",
      "debug: k1         = -0.094196634563145282\n",
      "debug: k2         = 0.11503642426152168\n",
      "debug: k3         = -0.032238313340550974\n",
      "debug: p1         = -0.00025662254090614374\n",
      "debug: p2         = -0.00035361346010062737\n",
      "debug: date       = 2024-04-04T04:49:48Z\n"
     ]
    },
    {
     "data": {
      "text/plain": [
       "{'filename': PosixPath('../test_data/we-1500-A1-agisoft-camcal.xml'),\n",
       " 'pixel_size': 5.5e-06,\n",
       " 'units': 'pixels',\n",
       " 'projection': 'frame',\n",
       " 'width': 4896.0,\n",
       " 'height': 3264.0,\n",
       " 'f': 5227.633227844355,\n",
       " 'cx': 11.738704269580627,\n",
       " 'cy': -8.698869392525403,\n",
       " 'k1': -0.09419663456314528,\n",
       " 'k2': 0.11503642426152168,\n",
       " 'k3': -0.032238313340550974,\n",
       " 'p1': -0.00025662254090614374,\n",
       " 'p2': -0.0003536134601006274,\n",
       " 'date': datetime.datetime(2024, 4, 4, 4, 49, 48)}"
      ]
     },
     "metadata": {},
     "output_type": "display_data"
    }
   ],
   "source": [
    "if __name__ == \"__main__\":\n",
    "  cal = read_metashape_camera_cal_file( metashape_cal_filename, debug=True )\n",
    "  display(cal)"
   ]
  },
  {
   "cell_type": "code",
   "execution_count": null,
   "metadata": {},
   "outputs": [
    {
     "data": {
      "text/plain": [
       "'Et.parse( ../test_data/we-1500-A1-inpho-camcal.txt ) failed.'"
      ]
     },
     "metadata": {},
     "output_type": "display_data"
    }
   ],
   "source": [
    "# Test with the wrong file, a non xml file.\n",
    "if __name__ == \"__main__\":\n",
    "  cal = read_metashape_camera_cal_file( inpho_filename, debug=True )\n",
    "  display(cal.error)"
   ]
  },
  {
   "cell_type": "code",
   "execution_count": null,
   "metadata": {},
   "outputs": [
    {
     "data": {
      "text/plain": [
       "'Not a MetaShape calibration file, lacks <calibration> tag.'"
      ]
     },
     "metadata": {},
     "output_type": "display_data"
    }
   ],
   "source": [
    "# Test with an xml file which is not a Metashape cal file.\n",
    "if __name__ == \"__main__\":\n",
    "  cal = read_metashape_camera_cal_file( opencv_filename, units='mm' )\n",
    "  display(cal.error)"
   ]
  },
  {
   "cell_type": "markdown",
   "metadata": {},
   "source": [
    "#| hide\n",
    "#### Test read_metashape_camera_cal_file() with rv='df"
   ]
  },
  {
   "cell_type": "code",
   "execution_count": null,
   "metadata": {},
   "outputs": [
    {
     "data": {
      "text/html": [
       "<div>\n",
       "<style scoped>\n",
       "    .dataframe tbody tr th:only-of-type {\n",
       "        vertical-align: middle;\n",
       "    }\n",
       "\n",
       "    .dataframe tbody tr th {\n",
       "        vertical-align: top;\n",
       "    }\n",
       "\n",
       "    .dataframe thead th {\n",
       "        text-align: right;\n",
       "    }\n",
       "</style>\n",
       "<table border=\"1\" class=\"dataframe\">\n",
       "  <thead>\n",
       "    <tr style=\"text-align: right;\">\n",
       "      <th></th>\n",
       "      <th>filename</th>\n",
       "      <th>pixel_size</th>\n",
       "      <th>units</th>\n",
       "      <th>projection</th>\n",
       "      <th>width</th>\n",
       "      <th>height</th>\n",
       "      <th>f</th>\n",
       "      <th>cx</th>\n",
       "      <th>cy</th>\n",
       "      <th>k1</th>\n",
       "      <th>k2</th>\n",
       "      <th>k3</th>\n",
       "      <th>p1</th>\n",
       "      <th>p2</th>\n",
       "      <th>date</th>\n",
       "    </tr>\n",
       "  </thead>\n",
       "  <tbody>\n",
       "    <tr>\n",
       "      <th>0</th>\n",
       "      <td>../test_data/we-1500-A1-agisoft-camcal.xml</td>\n",
       "      <td>0.000005</td>\n",
       "      <td>m</td>\n",
       "      <td>frame</td>\n",
       "      <td>0.026928</td>\n",
       "      <td>0.017952</td>\n",
       "      <td>0.028752</td>\n",
       "      <td>0.000065</td>\n",
       "      <td>-0.000048</td>\n",
       "      <td>-0.094197</td>\n",
       "      <td>0.115036</td>\n",
       "      <td>-0.032238</td>\n",
       "      <td>-0.000257</td>\n",
       "      <td>-0.000354</td>\n",
       "      <td>2024-04-04 04:49:48</td>\n",
       "    </tr>\n",
       "  </tbody>\n",
       "</table>\n",
       "</div>"
      ],
      "text/plain": [
       "                                     filename  pixel_size units projection  \\\n",
       "0  ../test_data/we-1500-A1-agisoft-camcal.xml    0.000005     m      frame   \n",
       "\n",
       "      width    height         f        cx        cy        k1        k2  \\\n",
       "0  0.026928  0.017952  0.028752  0.000065 -0.000048 -0.094197  0.115036   \n",
       "\n",
       "         k3        p1        p2                date  \n",
       "0 -0.032238 -0.000257 -0.000354 2024-04-04 04:49:48  "
      ]
     },
     "metadata": {},
     "output_type": "display_data"
    }
   ],
   "source": [
    "# Test with df returns.\n",
    "if __name__ == \"__main__\":\n",
    "  cal = read_metashape_camera_cal_file( metashape_cal_filename, units='m', rv='df' )\n",
    "  display(cal)"
   ]
  },
  {
   "cell_type": "markdown",
   "metadata": {},
   "source": [
    "#| hide\n",
    "### def read_openCV_camera_cal_file( filename, debug=False )"
   ]
  },
  {
   "cell_type": "code",
   "execution_count": null,
   "metadata": {},
   "outputs": [],
   "source": [
    "#|export\n",
    "class read_openCV_camera_cal_file:\n",
    "  \"\"\"\n",
    "  Read an OpenCV Camera xml Calibration file.\n",
    "  \"\"\"\n",
    "  def __init__(self, filename ):\n",
    "    tree = ET.parse( filename )\n",
    "    root = tree.getroot()\n",
    "    tree.getroot()\n",
    "\n",
    "    #self.filename = filename.split(\"/\")[-1]\n",
    "    filepath = Path( filename )\n",
    "    self.filename  = filepath  #filepath.name\n",
    "    self.datetime = root.findall('calibration_Time')[0].text\n",
    "    self.image_Width = root.findall('image_Width')[0].text\n",
    "    self.image_Height = root.findall('image_Height')[0].text\n",
    "\n",
    "    self.Camera_Matrix_rows = int(root.findall('Camera_Matrix/rows')[0].text)\n",
    "    self.Camera_Matrix_cols = int(root.findall('Camera_Matrix/cols')[0].text)\n",
    "    self.Camera_Matrix_data = root.findall('Camera_Matrix/data')[0].text\n",
    "    lst = root.findall('Camera_Matrix/data')[0].text.strip()\n",
    "    x = re.split('[ \\n]+', lst )\n",
    "    self.Camera_Matrix_data = np.array(x, dtype=float)\n",
    "    self.Camera_Matrix_data.reshape( self.Camera_Matrix_rows,self.Camera_Matrix_cols)\n",
    "\n",
    "    self.Distortion_Coefficients_rows = int(root.findall('Distortion_Coefficients/rows')[0].text)\n",
    "    self.Distortion_Coefficients_cols = int(root.findall('Distortion_Coefficients/cols')[0].text)\n",
    "    lst = root.findall('Distortion_Coefficients/data')[0].text.strip()\n",
    "    x = re.split('[ \\n]+', lst )\n",
    "    self.Distortion_Coefficients_data = np.array(x, dtype=float)\n",
    "\n",
    "    # Add as a MetaShape class.\n",
    "    self.metashape = MetaShape_Cal_Data()\n",
    "    self.metashape.units        = 'pixels'\n",
    "    self.metashape.pixel_size   = 5.5e-6\n",
    "    self.metashape.projection   = 'frame'\n",
    "    self.metashape.filename     = filepath\n",
    "    self.metashape.datetime     = self.datetime\n",
    "    self.metashape.width        = self.image_Width\n",
    "    self.metashape.height       = self.image_Height\n",
    "    self.metashape.f            = self.Camera_Matrix_data[0]\n",
    "    self.metashape.cx           = self.Camera_Matrix_data[2]\n",
    "    self.metashape.cy           = self.Camera_Matrix_data[5]\n",
    "    self.metashape.k1           = self.Distortion_Coefficients_data[0]\n",
    "    self.metashape.k2           = self.Distortion_Coefficients_data[1]\n",
    "    self.metashape.k3           = self.Distortion_Coefficients_data[4]\n",
    "    self.metashape.p1           = self.Distortion_Coefficients_data[3]\n",
    "    self.metashape.p2           = self.Distortion_Coefficients_data[2]"
   ]
  },
  {
   "cell_type": "markdown",
   "metadata": {},
   "source": [
    "#| hide\n",
    "#### Test read_openCV_camera_cal_file()"
   ]
  },
  {
   "cell_type": "code",
   "execution_count": null,
   "metadata": {},
   "outputs": [
    {
     "name": "stdout",
     "output_type": "stream",
     "text": [
      "\n",
      "**** openCV elements. ****\n",
      "filename                         = ../test_data/we-1500-A1-opencv-camcal.xml\n",
      "datetime                         = \"Thu Apr  4 15:40:46 2024\"\n",
      "image_Width                      = 4896\n",
      "image_Height                     = 3264\n",
      "Camera_Matrix_rows               = 3\n",
      "Camera_Matrix_cols               = 3\n",
      "Camera_Matrix_data               = [5.22763323e+03 0.00000000e+00 2.45923870e+03 0.00000000e+00\n",
      " 5.22763323e+03 1.62280113e+03 0.00000000e+00 0.00000000e+00\n",
      " 1.00000000e+00]\n",
      "Distortion_Coefficients_rows     = 5\n",
      "Distortion_Coefficients_cols     = 1\n",
      "Distortion_Coefficients_data     = [-0.09419663  0.11503642 -0.00035361 -0.00025662 -0.03223831]\n",
      "metashape                        = <__main__.MetaShape_Cal_Data object>\n",
      "\n",
      "**** MetaShape elements. ****\n",
      "filename                         = ../test_data/we-1500-A1-opencv-camcal.xml\n",
      "datetime                         = \"Thu Apr  4 15:40:46 2024\"\n",
      "projection                       = frame\n",
      "units                            = pixels\n",
      "pixel_size                       = 5.5e-06\n",
      "f                                = 5227.633227844355\n",
      "cx                               = 2459.2387042695805\n",
      "cy                               = 1622.8011306074745\n",
      "width                            = 4896\n",
      "height                           = 3264\n",
      "error                            = None\n",
      "k1                               = -0.0941966345631452\n",
      "k2                               = 0.11503642426152115\n",
      "k3                               = -0.032238313340550065\n",
      "p1                               = -0.0002566225409061468\n",
      "p2                               = -0.00035361346010062846\n",
      "\n",
      "**** Example reading elements directly ****\n",
      "cal.metashape.width = '4896'\n"
     ]
    }
   ],
   "source": [
    "if __name__ == \"__main__\":\n",
    "  cal = read_openCV_camera_cal_file(opencv_filename)\n",
    "\n",
    "  # Dump the data.\n",
    "  print(\"\\n**** openCV elements. ****\")\n",
    "  for k, v in cal.__dict__.items():\n",
    "    print(f'{k:32s} = {v}')\n",
    "\n",
    "  # Dump the metashape data.\n",
    "  print(\"\\n**** MetaShape elements. ****\")\n",
    "  for k, v in cal.metashape.__dict__.items():\n",
    "    print(f'{k:32s} = {v}')\n",
    "\n",
    "  print(\"\\n**** Example reading elements directly ****\")\n",
    "  print(f'{cal.metashape.width = }')"
   ]
  },
  {
   "cell_type": "markdown",
   "metadata": {},
   "source": [
    "#| hide\n",
    "### def metashape_cal_to_tsai()"
   ]
  },
  {
   "cell_type": "code",
   "execution_count": null,
   "metadata": {},
   "outputs": [],
   "source": [
    "#|export\n",
    "def metashape_cal_to_tsai( df,               # MetaShape cal dataframe.\n",
    "                          save=True,         # True to save tasi to a file.\n",
    "                           tsai_file='',     # An optional filename to write the tsai data too.\n",
    "                           path=\".\",         # Path to save the file to.\n",
    "                           return_str=False, # True if you want the tsai string returned.\n",
    "                           debug=False       # True debug tis module.\n",
    "                           ) -> str:         # Returns the entire tsai cal string.\n",
    "  \"\"\"\n",
    "  Convert a `MetaShape` camera calibration Pandas Dataframe to a tsai file.\n",
    "  \"\"\"\n",
    "\n",
    "  # Compute the tsai values from the Metashape cal dataframe.\n",
    "  fu  = fv = df.f[0]\n",
    "  cu  = df.width[0]  / 2 + 0.5 - 1.0 + df.cx[0]\n",
    "  cv  = df.height[0] / 2 + 0.5 - 1.0 + df.cy[0]\n",
    "  k1  = df.k1[0];   k2 = df.k2[0];   p1 = df.p1[0];   p2 = df.p2[0]\n",
    "\n",
    "  # Generate tsai string.\n",
    "  tsai_str = \\\n",
    "       \"VERSION_4\\nPINHOLE\\n\"\\\n",
    "      f\"{fu = :15.12f}\\n{fv = :15.12f}\\n{cu = :15.12f}\\n{cv = :15.12f}\\n\"\\\n",
    "      \"u_direction = 1  0  0\\n\"\\\n",
    "      \"v_direction = 0  1  0\\n\"\\\n",
    "      \"w_direction = 0  0  1\\n\"\\\n",
    "      \"C = 0 0 0\\nR = 1 0 0 0 1 0 0 0 1\\n\"\\\n",
    "      \"pitch = 1.0\\nTSAI\\n\"\\\n",
    "      f\"{k1 = :15.12f}\\n{k2 = :15.12f}\\n{p1 = :15.12f}\\n{p2 = :15.12f}\\n\"\n",
    "\n",
    "  # Save it to a file.  Generate the file name from the agisoft filename.\n",
    "  if save:\n",
    "    if tsai_file:\n",
    "      tsai_fn = Path(path+\"/\"+tsai_file)\n",
    "      if debug:\n",
    "        print(f'Debug: {tsai_fn=}')\n",
    "    else:\n",
    "      # tsai_fn = df.filename[0].split(\".\")[0]+\".tsai\"\n",
    "      tsai_fn = Path(path+\"/\"+df.filename[0].name).with_suffix('.tsai')\n",
    "      if debug:\n",
    "        print(f'Debug: {tsai_fn=}')\n",
    "      # tsai_fn.with_suffix('.tsai')\n",
    "    with open( tsai_fn, 'w') as tsai_file:\n",
    "      tsai_file.write( tsai_str )\n",
    "\n",
    "  if debug:\n",
    "    print(f'debug: {tsai_str:s}')\n",
    "\n",
    "  # Return the tsai string if return_str=True\n",
    "  if return_str:\n",
    "    return tsai_str"
   ]
  },
  {
   "cell_type": "markdown",
   "metadata": {},
   "source": [
    "#| hide\n",
    "#### Test def metashape_cal_to_tsai()"
   ]
  },
  {
   "cell_type": "markdown",
   "metadata": {},
   "source": [
    "test metashape_cal_to_tsai( cal )"
   ]
  },
  {
   "cell_type": "code",
   "execution_count": null,
   "metadata": {},
   "outputs": [
    {
     "name": "stdout",
     "output_type": "stream",
     "text": [
      "debug: root.tag:calibration\n",
      "debug: projection = frame\n",
      "debug: width      = 4896\n",
      "debug: height     = 3264\n",
      "debug: f          = 5227.6332278443551\n",
      "debug: cx         = 11.738704269580627\n",
      "debug: cy         = -8.6988693925254026\n",
      "debug: k1         = -0.094196634563145282\n",
      "debug: k2         = 0.11503642426152168\n",
      "debug: k3         = -0.032238313340550974\n",
      "debug: p1         = -0.00025662254090614374\n",
      "debug: p2         = -0.00035361346010062737\n",
      "debug: date       = 2024-04-04T04:49:48Z\n"
     ]
    },
    {
     "data": {
      "text/html": [
       "<div>\n",
       "<style scoped>\n",
       "    .dataframe tbody tr th:only-of-type {\n",
       "        vertical-align: middle;\n",
       "    }\n",
       "\n",
       "    .dataframe tbody tr th {\n",
       "        vertical-align: top;\n",
       "    }\n",
       "\n",
       "    .dataframe thead th {\n",
       "        text-align: right;\n",
       "    }\n",
       "</style>\n",
       "<table border=\"1\" class=\"dataframe\">\n",
       "  <thead>\n",
       "    <tr style=\"text-align: right;\">\n",
       "      <th></th>\n",
       "      <th>filename</th>\n",
       "      <th>pixel_size</th>\n",
       "      <th>units</th>\n",
       "      <th>projection</th>\n",
       "      <th>width</th>\n",
       "      <th>height</th>\n",
       "      <th>f</th>\n",
       "      <th>cx</th>\n",
       "      <th>cy</th>\n",
       "      <th>k1</th>\n",
       "      <th>k2</th>\n",
       "      <th>k3</th>\n",
       "      <th>p1</th>\n",
       "      <th>p2</th>\n",
       "      <th>date</th>\n",
       "    </tr>\n",
       "  </thead>\n",
       "  <tbody>\n",
       "    <tr>\n",
       "      <th>0</th>\n",
       "      <td>../test_data/we-1500-A1-agisoft-camcal.xml</td>\n",
       "      <td>0.000005</td>\n",
       "      <td>m</td>\n",
       "      <td>frame</td>\n",
       "      <td>0.026928</td>\n",
       "      <td>0.017952</td>\n",
       "      <td>0.028752</td>\n",
       "      <td>0.000065</td>\n",
       "      <td>-0.000048</td>\n",
       "      <td>-0.094197</td>\n",
       "      <td>0.115036</td>\n",
       "      <td>-0.032238</td>\n",
       "      <td>-0.000257</td>\n",
       "      <td>-0.000354</td>\n",
       "      <td>2024-04-04 04:49:48</td>\n",
       "    </tr>\n",
       "  </tbody>\n",
       "</table>\n",
       "</div>"
      ],
      "text/plain": [
       "                                     filename  pixel_size units projection  \\\n",
       "0  ../test_data/we-1500-A1-agisoft-camcal.xml    0.000005     m      frame   \n",
       "\n",
       "      width    height         f        cx        cy        k1        k2  \\\n",
       "0  0.026928  0.017952  0.028752  0.000065 -0.000048 -0.094197  0.115036   \n",
       "\n",
       "         k3        p1        p2                date  \n",
       "0 -0.032238 -0.000257 -0.000354 2024-04-04 04:49:48  "
      ]
     },
     "metadata": {},
     "output_type": "display_data"
    },
    {
     "name": "stdout",
     "output_type": "stream",
     "text": [
      "0    ../test_data/we-1500-A1-agisoft-camcal.xml\n",
      "Name: filename, dtype: object\n"
     ]
    }
   ],
   "source": [
    "# test metashape_cal_to_tsai( cal )\n",
    "if __name__ == \"__main__\":\n",
    "  cal = read_metashape_camera_cal_file( metashape_cal_filename, units='m', rv='df', debug=True )\n",
    "  display(cal)\n",
    "  print(cal.filename)\n",
    "  metashape_cal_to_tsai( cal )"
   ]
  },
  {
   "cell_type": "markdown",
   "metadata": {},
   "source": [
    "Test generating a user specified file name."
   ]
  },
  {
   "cell_type": "raw",
   "metadata": {},
   "source": [
    "test metashape_cal_to_tsai( cal ) generating a user specified file name."
   ]
  },
  {
   "cell_type": "code",
   "execution_count": null,
   "metadata": {},
   "outputs": [],
   "source": [
    "# Test with user set file name.\n",
    "if __name__ == \"__main__\":\n",
    "  metashape_cal_to_tsai( cal, tsai_file=\"junk.tsai\" )"
   ]
  },
  {
   "cell_type": "raw",
   "metadata": {},
   "source": [
    "test metashape_cal_to_tsai( cal ) using an automatically generated file name and with the \n",
    "debug flag on."
   ]
  },
  {
   "cell_type": "code",
   "execution_count": null,
   "metadata": {},
   "outputs": [
    {
     "name": "stdout",
     "output_type": "stream",
     "text": [
      "Debug: tsai_fn=PosixPath('we-1500-A1-agisoft-camcal.tsai')\n",
      "debug: VERSION_4\n",
      "PINHOLE\n",
      "fu =  0.028751982753\n",
      "fv =  0.028751982753\n",
      "cu = -0.486471437127\n",
      "cv = -0.491071843782\n",
      "u_direction = 1  0  0\n",
      "v_direction = 0  1  0\n",
      "w_direction = 0  0  1\n",
      "C = 0 0 0\n",
      "R = 1 0 0 0 1 0 0 0 1\n",
      "pitch = 1.0\n",
      "TSAI\n",
      "k1 = -0.094196634563\n",
      "k2 =  0.115036424262\n",
      "p1 = -0.000256622541\n",
      "p2 = -0.000353613460\n",
      "\n"
     ]
    }
   ],
   "source": [
    "# Test with automatically generated filename\n",
    "if __name__ == \"__main__\":\n",
    "  metashape_cal_to_tsai( cal, debug=True )"
   ]
  },
  {
   "cell_type": "markdown",
   "metadata": {},
   "source": [
    "Test with user set path. Write the test file to a user specified path `path='/tmp'`"
   ]
  },
  {
   "cell_type": "code",
   "execution_count": null,
   "metadata": {},
   "outputs": [],
   "source": [
    "# Test with user set path. Write the test file to /tmp\n",
    "if __name__ == \"__main__\":\n",
    "  metashape_cal_to_tsai( cal, path=\"/tmp\" )"
   ]
  },
  {
   "cell_type": "markdown",
   "metadata": {},
   "source": [
    "#| hide\n",
    "## Experimentation Code"
   ]
  },
  {
   "cell_type": "code",
   "execution_count": null,
   "metadata": {},
   "outputs": [],
   "source": [
    "#| hide\n",
    "if __name__ == \"__main__\" and False:\n",
    "  fn = Path(\"/dddd\"+'/content/drive/MyDrive/Colab Notebooks/WWpylib/test_data/we-1500-A1-opencv-camcal.xml')\n",
    "  display(fn.parts)"
   ]
  },
  {
   "cell_type": "code",
   "execution_count": null,
   "metadata": {},
   "outputs": [],
   "source": [
    "#| hide\n",
    "if __name__ == \"__main__\" and False:\n",
    "  fn = fn.with_suffix('.tsai')\n",
    "  display(fn)"
   ]
  },
  {
   "cell_type": "code",
   "execution_count": null,
   "metadata": {},
   "outputs": [],
   "source": [
    "#| hide\n",
    "# Testing cell.\n",
    "if __name__ == \"__main__\" and False:\n",
    "  filename = Path('/content/drive/MyDrive/Colab Notebooks/WWpylib/test_data/we-1500-A1-agisoft-camcal.xml')\n",
    "  wp = PureWindowsPath(r\"C:\\Users\\mstuding\\OneDrive - NASA\\GitHub_repositories\\ATM-SfM-Production\")\n",
    "  display(wp.parts)"
   ]
  },
  {
   "cell_type": "markdown",
   "metadata": {},
   "source": [
    "## References"
   ]
  },
  {
   "cell_type": "markdown",
   "metadata": {},
   "source": [
    "1. **[Medium Article: pathlib](https://medium.com/@ageitgey/python-3-quick-tip-the-easy-way-to-deal-with-file-paths-on-windows-mac-and-linux-11a072b58d5f)** path(), PurePosixPath() and PureWindowsPath()\n",
    "2. **[nbdev directives.](https://nbdev.fast.ai/explanations/directives.html)** A cheat sheet of directives available in nbdev."
   ]
  }
 ],
 "metadata": {
  "kernelspec": {
   "display_name": "python3",
   "language": "python",
   "name": "python3"
  }
 },
 "nbformat": 4,
 "nbformat_minor": 4
}
