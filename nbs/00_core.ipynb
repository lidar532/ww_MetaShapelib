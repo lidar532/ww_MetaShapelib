{
 "cells": [
  {
   "cell_type": "markdown",
   "metadata": {},
   "source": [
    "# core\n",
    "\n",
    "> Fill in a module description here"
   ]
  },
  {
   "cell_type": "code",
   "execution_count": null,
   "metadata": {},
   "outputs": [],
   "source": [
    "#| default_exp core"
   ]
  },
  {
   "cell_type": "code",
   "execution_count": null,
   "metadata": {},
   "outputs": [],
   "source": [
    "#| hide\n",
    "from nbdev.showdoc import *"
   ]
  },
  {
   "cell_type": "code",
   "execution_count": null,
   "metadata": {},
   "outputs": [],
   "source": [
    "#| export\n",
    "def foo(): pass"
   ]
  },
  {
   "cell_type": "code",
   "execution_count": null,
   "metadata": {},
   "outputs": [],
   "source": [
    "#| hide\n",
    "import nbdev; nbdev.nbdev_export()"
   ]
  },
  {
   "cell_type": "code",
   "execution_count": null,
   "metadata": {},
   "outputs": [],
   "source": [
    "fn = \"IOCAM1B_2019_GS_NASA_20190819_172719.4215.tif\""
   ]
  },
  {
   "cell_type": "code",
   "execution_count": null,
   "metadata": {},
   "outputs": [
    {
     "data": {
      "text/plain": [
       "('IOCAM1B_2019_GS_NASA_20190819_172719.4215.tif', '20190819-172719.4215.jpg')"
      ]
     },
     "execution_count": null,
     "metadata": {},
     "output_type": "execute_result"
    }
   ],
   "source": [
    "fn = \"IOCAM1B_2019_GS_NASA_20190819_172719.4215.tif\"\n",
    "fn, fn.replace(\"IOCAM1B_2019_GS_NASA_\", \"\").replace(\"_\",\"-\").replace(\".tif\", \".jpg\")"
   ]
  },
  {
   "cell_type": "code",
   "execution_count": null,
   "metadata": {},
   "outputs": [
    {
     "data": {
      "text/plain": [
       "(2, 1)"
      ]
     },
     "execution_count": null,
     "metadata": {},
     "output_type": "execute_result"
    }
   ],
   "source": [
    "fn1 = \"20190819-172719.4215.tsai\"\n",
    "fn2 = \"20190819-172719_4215.tsai\"\n",
    "fn1.count('.'), fn2.count('.')"
   ]
  },
  {
   "cell_type": "code",
   "execution_count": null,
   "metadata": {},
   "outputs": [
    {
     "name": "stdout",
     "output_type": "stream",
     "text": [
      "    too many: 20190819-172719.4215.tsai\n",
      "  just right: 20190819-172719_4215.tsai\n",
      "WTF is this?: 20190819-172719_4215-tsai\n"
     ]
    }
   ],
   "source": [
    "names = [\"20190819-172719.4215.tsai\",\n",
    "         \"20190819-172719_4215.tsai\",\n",
    "         \"20190819-172719_4215-tsai\"\n",
    "        ]\n",
    "for fn in names:\n",
    "    if fn.count(\".\") > 1:\n",
    "      print(f\"    too many: {fn}\")\n",
    "    elif fn.count('.') == 1:\n",
    "        print(f\"  just right: {fn}\")\n",
    "    else:\n",
    "        print(f\"WTF is this?: {fn}\")"
   ]
  },
  {
   "cell_type": "code",
   "execution_count": null,
   "metadata": {},
   "outputs": [],
   "source": [
    "from pathlib import Path"
   ]
  },
  {
   "cell_type": "code",
   "execution_count": null,
   "metadata": {},
   "outputs": [
    {
     "data": {
      "text/plain": [
       "'20190819-172720.4216.jpg.final'"
      ]
     },
     "execution_count": null,
     "metadata": {},
     "output_type": "execute_result"
    }
   ],
   "source": [
    "p."
   ]
  },
  {
   "cell_type": "code",
   "execution_count": null,
   "metadata": {},
   "outputs": [],
   "source": [
    "fn = \"./cs_out/20190819-172720.4216.jpg.final.tsai\"\n",
    "p = Path(fn)"
   ]
  },
  {
   "cell_type": "code",
   "execution_count": null,
   "metadata": {},
   "outputs": [
    {
     "name": "stdout",
     "output_type": "stream",
     "text": [
      "cwd()           /home/wright/github-projects/ww_MetaShapelib/nbs\n",
      "drive           \n",
      "exists()        False\n",
      "expanduser()    cs_out/20190819-172720.4216.jpg.final.tsai\n",
      "is_dir()        False\n",
      "is_file()       False\n",
      "name            20190819-172720.4216.jpg.final.tsai\n",
      "parts           ('cs_out', '20190819-172720.4216.jpg.final.tsai')\n",
      "root            \n",
      "stem            20190819-172720.4216.jpg.final\n",
      "suffix          .tsai\n",
      "parent          cs_out\n"
     ]
    }
   ],
   "source": [
    "keys = [\"cwd()\", \"drive\", \"exists()\", \"expanduser()\", \"is_dir()\",\n",
    "        \"is_file()\", \"name\", \"parts\", \"root\", \"stem\", \"suffix\",\n",
    "        \"parent\"\n",
    "       ]\n",
    "for k in keys:\n",
    "    v = eval(f\"p.{k}\")\n",
    "    print(f\"{k:15} {v}\")"
   ]
  }
 ],
 "metadata": {
  "kernelspec": {
   "display_name": "python3",
   "language": "python",
   "name": "python3"
  }
 },
 "nbformat": 4,
 "nbformat_minor": 4
}
